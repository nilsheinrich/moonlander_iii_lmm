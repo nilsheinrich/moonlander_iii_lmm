{
 "cells": [
  {
   "cell_type": "code",
   "execution_count": 1,
   "id": "a44cab7d",
   "metadata": {},
   "outputs": [],
   "source": [
    "import numpy as np\n",
    "import pandas as pd\n",
    "import pyarrow as pa\n",
    "import statsmodels.formula.api as smf\n",
    "from scipy.stats import boxcox, probplot, norm\n",
    "from sklearn.preprocessing import StandardScaler\n",
    "from sklearn.decomposition import PCA\n",
    "import seaborn as sns\n",
    "import matplotlib.pyplot as plt\n",
    "from QuClu import myfunctions"
   ]
  },
  {
   "cell_type": "code",
   "execution_count": 2,
   "id": "2b404e28",
   "metadata": {},
   "outputs": [
    {
     "data": {
      "text/html": [
       "<div>\n",
       "<style scoped>\n",
       "    .dataframe tbody tr th:only-of-type {\n",
       "        vertical-align: middle;\n",
       "    }\n",
       "\n",
       "    .dataframe tbody tr th {\n",
       "        vertical-align: top;\n",
       "    }\n",
       "\n",
       "    .dataframe thead th {\n",
       "        text-align: right;\n",
       "    }\n",
       "</style>\n",
       "<table border=\"1\" class=\"dataframe\">\n",
       "  <thead>\n",
       "    <tr style=\"text-align: right;\">\n",
       "      <th></th>\n",
       "      <th>distance_to_spaceship</th>\n",
       "      <th>fixation_duration</th>\n",
       "      <th>Dist_to_closest_obstacles</th>\n",
       "      <th>N_visible_obstacles</th>\n",
       "      <th>input_noise</th>\n",
       "      <th>ID</th>\n",
       "      <th>level</th>\n",
       "      <th>trial</th>\n",
       "      <th>distant_fixation</th>\n",
       "      <th>cluster</th>\n",
       "      <th>disargeement</th>\n",
       "    </tr>\n",
       "  </thead>\n",
       "  <tbody>\n",
       "    <tr>\n",
       "      <th>0</th>\n",
       "      <td>6.532785</td>\n",
       "      <td>0.1470</td>\n",
       "      <td>6.097491</td>\n",
       "      <td>6.0</td>\n",
       "      <td>0.0</td>\n",
       "      <td>AU25IL</td>\n",
       "      <td>1.0</td>\n",
       "      <td>15</td>\n",
       "      <td>1.0</td>\n",
       "      <td>1</td>\n",
       "      <td>1.0</td>\n",
       "    </tr>\n",
       "    <tr>\n",
       "      <th>1</th>\n",
       "      <td>6.075962</td>\n",
       "      <td>0.6490</td>\n",
       "      <td>2.892411</td>\n",
       "      <td>5.0</td>\n",
       "      <td>0.0</td>\n",
       "      <td>AU25IL</td>\n",
       "      <td>1.0</td>\n",
       "      <td>15</td>\n",
       "      <td>1.0</td>\n",
       "      <td>1</td>\n",
       "      <td>1.0</td>\n",
       "    </tr>\n",
       "    <tr>\n",
       "      <th>2</th>\n",
       "      <td>8.698109</td>\n",
       "      <td>0.5380</td>\n",
       "      <td>3.681632</td>\n",
       "      <td>6.0</td>\n",
       "      <td>0.0</td>\n",
       "      <td>AU25IL</td>\n",
       "      <td>1.0</td>\n",
       "      <td>15</td>\n",
       "      <td>1.0</td>\n",
       "      <td>1</td>\n",
       "      <td>1.0</td>\n",
       "    </tr>\n",
       "    <tr>\n",
       "      <th>3</th>\n",
       "      <td>6.840493</td>\n",
       "      <td>0.2160</td>\n",
       "      <td>5.004505</td>\n",
       "      <td>5.0</td>\n",
       "      <td>0.0</td>\n",
       "      <td>AU25IL</td>\n",
       "      <td>1.0</td>\n",
       "      <td>15</td>\n",
       "      <td>1.0</td>\n",
       "      <td>1</td>\n",
       "      <td>1.0</td>\n",
       "    </tr>\n",
       "    <tr>\n",
       "      <th>4</th>\n",
       "      <td>6.132214</td>\n",
       "      <td>0.3785</td>\n",
       "      <td>4.208327</td>\n",
       "      <td>6.0</td>\n",
       "      <td>0.0</td>\n",
       "      <td>AU25IL</td>\n",
       "      <td>1.0</td>\n",
       "      <td>15</td>\n",
       "      <td>1.0</td>\n",
       "      <td>1</td>\n",
       "      <td>1.0</td>\n",
       "    </tr>\n",
       "    <tr>\n",
       "      <th>...</th>\n",
       "      <td>...</td>\n",
       "      <td>...</td>\n",
       "      <td>...</td>\n",
       "      <td>...</td>\n",
       "      <td>...</td>\n",
       "      <td>...</td>\n",
       "      <td>...</td>\n",
       "      <td>...</td>\n",
       "      <td>...</td>\n",
       "      <td>...</td>\n",
       "      <td>...</td>\n",
       "    </tr>\n",
       "    <tr>\n",
       "      <th>27408</th>\n",
       "      <td>2.140648</td>\n",
       "      <td>0.0455</td>\n",
       "      <td>5.550318</td>\n",
       "      <td>2.0</td>\n",
       "      <td>2.0</td>\n",
       "      <td>IA19EI</td>\n",
       "      <td>6.0</td>\n",
       "      <td>11</td>\n",
       "      <td>0.0</td>\n",
       "      <td>0</td>\n",
       "      <td>1.0</td>\n",
       "    </tr>\n",
       "    <tr>\n",
       "      <th>27409</th>\n",
       "      <td>1.782098</td>\n",
       "      <td>0.0445</td>\n",
       "      <td>5.788002</td>\n",
       "      <td>2.0</td>\n",
       "      <td>2.0</td>\n",
       "      <td>IA19EI</td>\n",
       "      <td>6.0</td>\n",
       "      <td>11</td>\n",
       "      <td>0.0</td>\n",
       "      <td>0</td>\n",
       "      <td>1.0</td>\n",
       "    </tr>\n",
       "    <tr>\n",
       "      <th>27410</th>\n",
       "      <td>1.654277</td>\n",
       "      <td>0.0290</td>\n",
       "      <td>6.121837</td>\n",
       "      <td>2.0</td>\n",
       "      <td>2.0</td>\n",
       "      <td>IA19EI</td>\n",
       "      <td>6.0</td>\n",
       "      <td>11</td>\n",
       "      <td>0.0</td>\n",
       "      <td>0</td>\n",
       "      <td>1.0</td>\n",
       "    </tr>\n",
       "    <tr>\n",
       "      <th>27411</th>\n",
       "      <td>1.579990</td>\n",
       "      <td>0.0030</td>\n",
       "      <td>6.335640</td>\n",
       "      <td>2.0</td>\n",
       "      <td>2.0</td>\n",
       "      <td>IA19EI</td>\n",
       "      <td>6.0</td>\n",
       "      <td>11</td>\n",
       "      <td>0.0</td>\n",
       "      <td>0</td>\n",
       "      <td>1.0</td>\n",
       "    </tr>\n",
       "    <tr>\n",
       "      <th>27412</th>\n",
       "      <td>1.581537</td>\n",
       "      <td>0.0060</td>\n",
       "      <td>6.500759</td>\n",
       "      <td>2.0</td>\n",
       "      <td>2.0</td>\n",
       "      <td>IA19EI</td>\n",
       "      <td>6.0</td>\n",
       "      <td>11</td>\n",
       "      <td>0.0</td>\n",
       "      <td>0</td>\n",
       "      <td>1.0</td>\n",
       "    </tr>\n",
       "  </tbody>\n",
       "</table>\n",
       "<p>27413 rows × 11 columns</p>\n",
       "</div>"
      ],
      "text/plain": [
       "       distance_to_spaceship  fixation_duration  Dist_to_closest_obstacles  \\\n",
       "0                   6.532785             0.1470                   6.097491   \n",
       "1                   6.075962             0.6490                   2.892411   \n",
       "2                   8.698109             0.5380                   3.681632   \n",
       "3                   6.840493             0.2160                   5.004505   \n",
       "4                   6.132214             0.3785                   4.208327   \n",
       "...                      ...                ...                        ...   \n",
       "27408               2.140648             0.0455                   5.550318   \n",
       "27409               1.782098             0.0445                   5.788002   \n",
       "27410               1.654277             0.0290                   6.121837   \n",
       "27411               1.579990             0.0030                   6.335640   \n",
       "27412               1.581537             0.0060                   6.500759   \n",
       "\n",
       "       N_visible_obstacles  input_noise      ID  level trial  \\\n",
       "0                      6.0          0.0  AU25IL    1.0    15   \n",
       "1                      5.0          0.0  AU25IL    1.0    15   \n",
       "2                      6.0          0.0  AU25IL    1.0    15   \n",
       "3                      5.0          0.0  AU25IL    1.0    15   \n",
       "4                      6.0          0.0  AU25IL    1.0    15   \n",
       "...                    ...          ...     ...    ...   ...   \n",
       "27408                  2.0          2.0  IA19EI    6.0    11   \n",
       "27409                  2.0          2.0  IA19EI    6.0    11   \n",
       "27410                  2.0          2.0  IA19EI    6.0    11   \n",
       "27411                  2.0          2.0  IA19EI    6.0    11   \n",
       "27412                  2.0          2.0  IA19EI    6.0    11   \n",
       "\n",
       "       distant_fixation cluster  disargeement  \n",
       "0                   1.0       1           1.0  \n",
       "1                   1.0       1           1.0  \n",
       "2                   1.0       1           1.0  \n",
       "3                   1.0       1           1.0  \n",
       "4                   1.0       1           1.0  \n",
       "...                 ...     ...           ...  \n",
       "27408               0.0       0           1.0  \n",
       "27409               0.0       0           1.0  \n",
       "27410               0.0       0           1.0  \n",
       "27411               0.0       0           1.0  \n",
       "27412               0.0       0           1.0  \n",
       "\n",
       "[27413 rows x 11 columns]"
      ]
     },
     "execution_count": 2,
     "metadata": {},
     "output_type": "execute_result"
    }
   ],
   "source": [
    "with pa.memory_map('data/Experiment3_AllFixations_short.arrow', 'r') as source:\n",
    "    data = pa.ipc.open_file(source).read_all()\n",
    "    \n",
    "df = data.to_pandas()\n",
    "df"
   ]
  },
  {
   "cell_type": "code",
   "execution_count": 3,
   "id": "c4da75a6",
   "metadata": {},
   "outputs": [
    {
     "data": {
      "text/plain": [
       "Index(['distance_to_spaceship', 'fixation_duration',\n",
       "       'Dist_to_closest_obstacles', 'N_visible_obstacles', 'input_noise', 'ID',\n",
       "       'level', 'trial', 'distant_fixation', 'cluster', 'disargeement'],\n",
       "      dtype='object')"
      ]
     },
     "execution_count": 3,
     "metadata": {},
     "output_type": "execute_result"
    }
   ],
   "source": [
    "df.columns"
   ]
  },
  {
   "cell_type": "markdown",
   "id": "fa05b0d4",
   "metadata": {},
   "source": [
    "# Principal Component Analysis (PCA)"
   ]
  },
  {
   "cell_type": "code",
   "execution_count": 4,
   "id": "f6374348",
   "metadata": {},
   "outputs": [],
   "source": [
    "# features of interest\n",
    "features = [\"distance_to_spaceship\", \"fixation_duration\", \"Dist_to_closest_obstacles\"]\n",
    "\n",
    "# seperating features\n",
    "x = df.loc[:, features].values\n",
    "\n",
    "# define target\n",
    "y = df.loc[:,['distant_fixation']].values\n",
    "\n",
    "# standardize features\n",
    "x = StandardScaler().fit_transform(x)"
   ]
  },
  {
   "cell_type": "code",
   "execution_count": 5,
   "id": "895e795d",
   "metadata": {},
   "outputs": [],
   "source": [
    "pca = PCA(n_components=3)\n",
    "\n",
    "principalComponents = pca.fit_transform(x)\n",
    "\n",
    "principalDf = pd.DataFrame(data = principalComponents\n",
    "             , columns = ['distance_to_spaceship', 'fixation_duration', 'Dist_to_closest_obstacles'])"
   ]
  },
  {
   "cell_type": "code",
   "execution_count": 6,
   "id": "d089da05",
   "metadata": {},
   "outputs": [],
   "source": [
    "finalDf = pd.concat([principalDf, df[['distant_fixation']]], axis = 1)"
   ]
  },
  {
   "cell_type": "code",
   "execution_count": 7,
   "id": "0c28e129",
   "metadata": {},
   "outputs": [
    {
     "data": {
      "image/png": "[encoded data removed]",
      "text/plain": [
       "<Figure size 800x800 with 1 Axes>"
      ]
     },
     "metadata": {},
     "output_type": "display_data"
    }
   ],
   "source": [
    "fig = plt.figure(figsize = (8,8))\n",
    "ax = fig.add_subplot(1,1,1) \n",
    "ax.set_xlabel('distance_to_spaceship', fontsize = 15)\n",
    "ax.set_ylabel('fixation_duration', fontsize = 15)\n",
    "ax.set_title('2 component PCA', fontsize = 20)\n",
    "\n",
    "targets = [0, 1]\n",
    "colors = ['r', 'b']\n",
    "for target, color in zip(targets,colors):\n",
    "    indicesToKeep = finalDf['distant_fixation'] == target\n",
    "    ax.scatter(finalDf.loc[indicesToKeep, 'distance_to_spaceship']\n",
    "               , finalDf.loc[indicesToKeep, 'fixation_duration']\n",
    "               , c = color\n",
    "               , s = 50)\n",
    "ax.legend(targets)\n",
    "ax.grid()"
   ]
  },
  {
   "cell_type": "code",
   "execution_count": 8,
   "id": "8477f945",
   "metadata": {},
   "outputs": [
    {
     "data": {
      "text/plain": [
       "array([0.39923173, 0.3317225 , 0.26904577])"
      ]
     },
     "execution_count": 8,
     "metadata": {},
     "output_type": "execute_result"
    }
   ],
   "source": [
    "pca.explained_variance_ratio_"
   ]
  },
  {
   "cell_type": "markdown",
   "id": "53f540b5",
   "metadata": {},
   "source": [
    "# Quantile-Based Clustering"
   ]
  },
  {
   "cell_type": "markdown",
   "id": "da9f2a1e",
   "metadata": {},
   "source": [
    "### Variable-wise theta_j and Scaled variables through lambda_j"
   ]
  },
  {
   "cell_type": "markdown",
   "id": "c2f46a42",
   "metadata": {},
   "source": [
    "Here, we will assess the 'elbow', as well as the silhouette score"
   ]
  },
  {
   "cell_type": "code",
   "execution_count": 11,
   "id": "4a163f58",
   "metadata": {},
   "outputs": [
    {
     "data": {
      "text/plain": [
       "['__builtins__',\n",
       " '__cached__',\n",
       " '__doc__',\n",
       " '__file__',\n",
       " '__loader__',\n",
       " '__name__',\n",
       " '__package__',\n",
       " '__spec__',\n",
       " 'alg_CS',\n",
       " 'alg_CU',\n",
       " 'alg_VS',\n",
       " 'alg_VU',\n",
       " 'fun_CS',\n",
       " 'fun_CU',\n",
       " 'fun_VS',\n",
       " 'fun_VU',\n",
       " 'math',\n",
       " 'minimize',\n",
       " 'np',\n",
       " 'pd']"
      ]
     },
     "execution_count": 11,
     "metadata": {},
     "output_type": "execute_result"
    }
   ],
   "source": [
    "dir(myfunctions)"
   ]
  },
  {
   "cell_type": "code",
   "execution_count": 12,
   "id": "3eec2222",
   "metadata": {
    "scrolled": false
   },
   "outputs": [
    {
     "data": {
      "image/png": "[encoded data removed]",
      "text/plain": [
       "<Figure size 800x500 with 1 Axes>"
      ]
     },
     "metadata": {},
     "output_type": "display_data"
    },
    {
     "name": "stdout",
     "output_type": "stream",
     "text": [
      "Optimal number of clusters: 2\n"
     ]
    }
   ],
   "source": [
    "from sklearn.cluster import KMeans\n",
    "from sklearn.metrics import silhouette_score\n",
    "\n",
    "features = [\"distance_to_spaceship\", \"fixation_duration\", \"Dist_to_closest_obstacles\"]\n",
    "X = df[features]\n",
    "\n",
    "# normalize data\n",
    "scaler = StandardScaler()\n",
    "X_scaled = scaler.fit_transform(X)\n",
    "\n",
    "# silhouette score\n",
    "silhouette_scores = []\n",
    "K_range = range(2, 11)  # 2-10 clusters\n",
    "\n",
    "for k in K_range:\n",
    "    #kmeans = KMeans(n_clusters=k, random_state=42)\n",
    "    #labels = kmeans.fit_predict(X_scaled)\n",
    "    cluster = myfunctions.alg_VS(X, k=k, B=50)\n",
    "    labels = cluster['cl']\n",
    "    \n",
    "    score = silhouette_score(X_scaled, labels)\n",
    "    silhouette_scores.append(score)\n",
    "\n",
    "# plotting\n",
    "plt.figure(figsize=(8, 5))\n",
    "plt.plot(K_range, silhouette_scores, marker='o')\n",
    "plt.title(\"Silhouette Score by Number of Clusters\")\n",
    "plt.xlabel(\"Number of Clusters (k)\")\n",
    "plt.ylabel(\"Silhouette Score\")\n",
    "plt.grid(True)\n",
    "plt.show()\n",
    "\n",
    "optimal_k = K_range[silhouette_scores.index(max(silhouette_scores))]\n",
    "print(f\"Optimal number of clusters: {optimal_k}\")\n"
   ]
  },
  {
   "cell_type": "code",
   "execution_count": 13,
   "id": "cede678e",
   "metadata": {},
   "outputs": [],
   "source": [
    "# assinging Ncluster to data points and save\n",
    "features = [\"distance_to_spaceship\", \"fixation_duration\", \"Dist_to_closest_obstacles\"]\n",
    "X = df[features]\n",
    "\n",
    "cluster = myfunctions.alg_VS(X, k=2, B=50)\n",
    "labels = cluster['cl']\n",
    "\n",
    "df['N_qclu'] = labels"
   ]
  },
  {
   "cell_type": "code",
   "execution_count": 14,
   "id": "405f4e4b",
   "metadata": {},
   "outputs": [],
   "source": [
    "#df.to_csv('data/Experiment3_AllFixations_clustered.csv', index=False)"
   ]
  },
  {
   "cell_type": "markdown",
   "id": "11ce6375",
   "metadata": {},
   "source": [
    "# Clustered Data Analysis "
   ]
  },
  {
   "cell_type": "code",
   "execution_count": 15,
   "id": "54c52040",
   "metadata": {},
   "outputs": [
    {
     "name": "stdout",
     "output_type": "stream",
     "text": [
      "       ID trial  level  input_noise  n_fixations_cluster_0  \\\n",
      "0  AU25IL    15    1.0          0.0                     23   \n",
      "1  AU25IL    31    1.0          0.5                     41   \n",
      "2  AU25IL    44    1.0          1.0                     77   \n",
      "3  AU25IL    34    1.0          1.5                     51   \n",
      "4  AU25IL    27    1.0          2.0                      6   \n",
      "\n",
      "   n_fixations_cluster_1  \n",
      "0                     12  \n",
      "1                     21  \n",
      "2                     22  \n",
      "3                     28  \n",
      "4                      4  \n"
     ]
    }
   ],
   "source": [
    "# trial-level info (one row per ID/trial)\n",
    "trial_info = (\n",
    "    df[['ID', 'trial', 'level', 'input_noise']]\n",
    "    .drop_duplicates()\n",
    ")\n",
    "\n",
    "# counting fixations per cluster per trial\n",
    "fixation_counts = (\n",
    "    df.groupby(['ID', 'trial', 'N_qclu'])\n",
    "      .size()\n",
    "      .reset_index(name='n_fixations')\n",
    ")\n",
    "\n",
    "# pivot\n",
    "fixation_counts_pivot = fixation_counts.pivot(\n",
    "    index=['ID', 'trial'],\n",
    "    columns='N_qclu',\n",
    "    values='n_fixations'\n",
    ")\n",
    "\n",
    "\n",
    "fixation_counts_pivot.columns = [f'n_fixations_cluster_{col}' for col in fixation_counts_pivot.columns]\n",
    "fixation_counts_pivot = fixation_counts_pivot.reset_index()\n",
    "\n",
    "# merge with trial-level info\n",
    "merged = pd.merge(trial_info, fixation_counts_pivot, on=['ID', 'trial'])\n",
    "\n",
    "merged = merged.fillna(0).astype({'n_fixations_cluster_0': 'int', 'n_fixations_cluster_1': 'int'})\n",
    "print(merged.head())\n"
   ]
  },
  {
   "cell_type": "markdown",
   "id": "9160a538",
   "metadata": {},
   "source": [
    "### Visual inspection"
   ]
  },
  {
   "cell_type": "code",
   "execution_count": 16,
   "id": "05000bc9",
   "metadata": {},
   "outputs": [
    {
     "data": {
      "image/png": "[encoded data removed]",
      "text/plain": [
       "<Figure size 640x480 with 1 Axes>"
      ]
     },
     "metadata": {},
     "output_type": "display_data"
    }
   ],
   "source": [
    "# visual inspection\n",
    "sns.boxplot(data=merged, x='input_noise', y='n_fixations_cluster_0')\n",
    "plt.title(\"Fixations per Input Noise Level\")\n",
    "plt.show()"
   ]
  },
  {
   "cell_type": "code",
   "execution_count": 17,
   "id": "15507d91",
   "metadata": {},
   "outputs": [
    {
     "data": {
      "image/png": "[encoded data removed]",
      "text/plain": [
       "<Figure size 640x480 with 1 Axes>"
      ]
     },
     "metadata": {},
     "output_type": "display_data"
    }
   ],
   "source": [
    "sns.boxplot(data=merged, x='input_noise', y='n_fixations_cluster_1')\n",
    "plt.title(\"Fixations per Input Noise Level\")\n",
    "plt.show()"
   ]
  },
  {
   "cell_type": "markdown",
   "id": "2a176eb4",
   "metadata": {},
   "source": [
    "## Linear mixed effects modeling"
   ]
  },
  {
   "cell_type": "markdown",
   "id": "cec0e431",
   "metadata": {},
   "source": [
    "### N fixations"
   ]
  },
  {
   "cell_type": "code",
   "execution_count": 18,
   "id": "1a435533",
   "metadata": {},
   "outputs": [
    {
     "data": {
      "text/html": [
       "<table class=\"simpletable\">\n",
       "<tr>\n",
       "       <td>Model:</td>       <td>MixedLM</td> <td>Dependent Variable:</td> <td>n_fixations_cluster_0</td>\n",
       "</tr>\n",
       "<tr>\n",
       "  <td>No. Observations:</td>   <td>254</td>         <td>Method:</td>                <td>ML</td>          \n",
       "</tr>\n",
       "<tr>\n",
       "     <td>No. Groups:</td>       <td>6</td>          <td>Scale:</td>              <td>1554.7577</td>      \n",
       "</tr>\n",
       "<tr>\n",
       "  <td>Min. group size:</td>    <td>35</td>      <td>Log-Likelihood:</td>        <td>-1304.0370</td>      \n",
       "</tr>\n",
       "<tr>\n",
       "  <td>Max. group size:</td>    <td>48</td>        <td>Converged:</td>               <td>Yes</td>         \n",
       "</tr>\n",
       "<tr>\n",
       "  <td>Mean group size:</td>   <td>42.3</td>            <td></td>                     <td></td>           \n",
       "</tr>\n",
       "</table>\n",
       "<table class=\"simpletable\">\n",
       "<tr>\n",
       "       <td></td>         <th>Coef.</th>  <th>Std.Err.</th>    <th>z</th>   <th>P>|z|</th> <th>[0.025</th>  <th>0.975]</th>\n",
       "</tr>\n",
       "<tr>\n",
       "  <th>Intercept</th>    <td>59.513</td>   <td>14.358</td>   <td>4.145</td> <td>0.000</td> <td>31.373</td>  <td>87.654</td>\n",
       "</tr>\n",
       "<tr>\n",
       "  <th>input_noise</th>  <td>-8.746</td>    <td>3.444</td>  <td>-2.539</td> <td>0.011</td> <td>-15.497</td> <td>-1.996</td>\n",
       "</tr>\n",
       "<tr>\n",
       "  <th>Group Var</th>   <td>1105.971</td>  <td>16.974</td>     <td></td>      <td></td>       <td></td>        <td></td>   \n",
       "</tr>\n",
       "</table><br/>\n"
      ],
      "text/latex": [
       "\\begin{table}\n",
       "\\caption{Mixed Linear Model Regression Results}\n",
       "\\label{}\n",
       "\\begin{center}\n",
       "\\begin{tabular}{llll}\n",
       "\\hline\n",
       "Model:            & MixedLM & Dependent Variable: & n\\_fixations\\_cluster\\_0  \\\\\n",
       "No. Observations: & 254     & Method:             & ML                        \\\\\n",
       "No. Groups:       & 6       & Scale:              & 1554.7577                 \\\\\n",
       "Min. group size:  & 35      & Log-Likelihood:     & -1304.0370                \\\\\n",
       "Max. group size:  & 48      & Converged:          & Yes                       \\\\\n",
       "Mean group size:  & 42.3    &                     &                           \\\\\n",
       "\\hline\n",
       "\\end{tabular}\n",
       "\\end{center}\n",
       "\n",
       "\\begin{center}\n",
       "\\begin{tabular}{lrrrrrr}\n",
       "\\hline\n",
       "             &    Coef. & Std.Err. &      z & P$> |$z$|$ &  [0.025 & 0.975]  \\\\\n",
       "\\hline\n",
       "Intercept    &   59.513 &   14.358 &  4.145 &       0.000 &  31.373 & 87.654  \\\\\n",
       "input\\_noise &   -8.746 &    3.444 & -2.539 &       0.011 & -15.497 & -1.996  \\\\\n",
       "Group Var    & 1105.971 &   16.974 &        &             &         &         \\\\\n",
       "\\hline\n",
       "\\end{tabular}\n",
       "\\end{center}\n",
       "\\end{table}\n",
       "\\bigskip\n"
      ],
      "text/plain": [
       "<class 'statsmodels.iolib.summary2.Summary'>\n",
       "\"\"\"\n",
       "               Mixed Linear Model Regression Results\n",
       "===================================================================\n",
       "Model:            MixedLM Dependent Variable: n_fixations_cluster_0\n",
       "No. Observations: 254     Method:             ML                   \n",
       "No. Groups:       6       Scale:              1554.7577            \n",
       "Min. group size:  35      Log-Likelihood:     -1304.0370           \n",
       "Max. group size:  48      Converged:          Yes                  \n",
       "Mean group size:  42.3                                             \n",
       "---------------------------------------------------------------------\n",
       "               Coef.     Std.Err.     z      P>|z|    [0.025   0.975]\n",
       "---------------------------------------------------------------------\n",
       "Intercept       59.513     14.358    4.145   0.000    31.373   87.654\n",
       "input_noise     -8.746      3.444   -2.539   0.011   -15.497   -1.996\n",
       "Group Var     1105.971     16.974                                    \n",
       "===================================================================\n",
       "\n",
       "\"\"\""
      ]
     },
     "execution_count": 18,
     "metadata": {},
     "output_type": "execute_result"
    }
   ],
   "source": [
    "model = smf.mixedlm(\n",
    "    \"n_fixations_cluster_0 ~ input_noise\",\n",
    "    data=merged,\n",
    "    groups=merged[\"ID\"]\n",
    ")\n",
    "model_fit = model.fit(reml=False)\n",
    "\n",
    "model_fit.summary()"
   ]
  },
  {
   "cell_type": "code",
   "execution_count": 19,
   "id": "4d3e323b",
   "metadata": {},
   "outputs": [
    {
     "data": {
      "text/html": [
       "<table class=\"simpletable\">\n",
       "<tr>\n",
       "       <td>Model:</td>       <td>MixedLM</td> <td>Dependent Variable:</td> <td>n_fixations_cluster_1</td>\n",
       "</tr>\n",
       "<tr>\n",
       "  <td>No. Observations:</td>   <td>254</td>         <td>Method:</td>                <td>ML</td>          \n",
       "</tr>\n",
       "<tr>\n",
       "     <td>No. Groups:</td>       <td>6</td>          <td>Scale:</td>              <td>2777.0886</td>      \n",
       "</tr>\n",
       "<tr>\n",
       "  <td>Min. group size:</td>    <td>35</td>      <td>Log-Likelihood:</td>        <td>-1377.6847</td>      \n",
       "</tr>\n",
       "<tr>\n",
       "  <td>Max. group size:</td>    <td>48</td>        <td>Converged:</td>               <td>Yes</td>         \n",
       "</tr>\n",
       "<tr>\n",
       "  <td>Mean group size:</td>   <td>42.3</td>            <td></td>                     <td></td>           \n",
       "</tr>\n",
       "</table>\n",
       "<table class=\"simpletable\">\n",
       "<tr>\n",
       "       <td></td>         <th>Coef.</th>  <th>Std.Err.</th>    <th>z</th>   <th>P>|z|</th> <th>[0.025</th>  <th>0.975]</th> \n",
       "</tr>\n",
       "<tr>\n",
       "  <th>Intercept</th>    <td>83.518</td>   <td>19.122</td>   <td>4.368</td> <td>0.000</td> <td>46.040</td>  <td>120.996</td>\n",
       "</tr>\n",
       "<tr>\n",
       "  <th>input_noise</th>  <td>-20.301</td>   <td>4.603</td>  <td>-4.410</td> <td>0.000</td> <td>-29.322</td> <td>-11.279</td>\n",
       "</tr>\n",
       "<tr>\n",
       "  <th>Group Var</th>   <td>1959.988</td>  <td>22.474</td>     <td></td>      <td></td>       <td></td>        <td></td>    \n",
       "</tr>\n",
       "</table><br/>\n"
      ],
      "text/latex": [
       "\\begin{table}\n",
       "\\caption{Mixed Linear Model Regression Results}\n",
       "\\label{}\n",
       "\\begin{center}\n",
       "\\begin{tabular}{llll}\n",
       "\\hline\n",
       "Model:            & MixedLM & Dependent Variable: & n\\_fixations\\_cluster\\_1  \\\\\n",
       "No. Observations: & 254     & Method:             & ML                        \\\\\n",
       "No. Groups:       & 6       & Scale:              & 2777.0886                 \\\\\n",
       "Min. group size:  & 35      & Log-Likelihood:     & -1377.6847                \\\\\n",
       "Max. group size:  & 48      & Converged:          & Yes                       \\\\\n",
       "Mean group size:  & 42.3    &                     &                           \\\\\n",
       "\\hline\n",
       "\\end{tabular}\n",
       "\\end{center}\n",
       "\n",
       "\\begin{center}\n",
       "\\begin{tabular}{lrrrrrr}\n",
       "\\hline\n",
       "             &    Coef. & Std.Err. &      z & P$> |$z$|$ &  [0.025 &  0.975]  \\\\\n",
       "\\hline\n",
       "Intercept    &   83.518 &   19.122 &  4.368 &       0.000 &  46.040 & 120.996  \\\\\n",
       "input\\_noise &  -20.301 &    4.603 & -4.410 &       0.000 & -29.322 & -11.279  \\\\\n",
       "Group Var    & 1959.988 &   22.474 &        &             &         &          \\\\\n",
       "\\hline\n",
       "\\end{tabular}\n",
       "\\end{center}\n",
       "\\end{table}\n",
       "\\bigskip\n"
      ],
      "text/plain": [
       "<class 'statsmodels.iolib.summary2.Summary'>\n",
       "\"\"\"\n",
       "               Mixed Linear Model Regression Results\n",
       "===================================================================\n",
       "Model:            MixedLM Dependent Variable: n_fixations_cluster_1\n",
       "No. Observations: 254     Method:             ML                   \n",
       "No. Groups:       6       Scale:              2777.0886            \n",
       "Min. group size:  35      Log-Likelihood:     -1377.6847           \n",
       "Max. group size:  48      Converged:          Yes                  \n",
       "Mean group size:  42.3                                             \n",
       "--------------------------------------------------------------------\n",
       "                  Coef.    Std.Err.    z     P>|z|   [0.025   0.975]\n",
       "--------------------------------------------------------------------\n",
       "Intercept          83.518    19.122   4.368  0.000   46.040  120.996\n",
       "input_noise       -20.301     4.603  -4.410  0.000  -29.322  -11.279\n",
       "Group Var        1959.988    22.474                                 \n",
       "===================================================================\n",
       "\n",
       "\"\"\""
      ]
     },
     "execution_count": 19,
     "metadata": {},
     "output_type": "execute_result"
    }
   ],
   "source": [
    "model = smf.mixedlm(\n",
    "    \"n_fixations_cluster_1 ~ input_noise\",\n",
    "    data=merged,\n",
    "    groups=merged[\"ID\"]\n",
    ")\n",
    "model_fit = model.fit(reml=False)\n",
    "\n",
    "model_fit.summary()"
   ]
  },
  {
   "cell_type": "markdown",
   "id": "f78d96fe",
   "metadata": {},
   "source": [
    "## Analyze fixation metrics"
   ]
  },
  {
   "cell_type": "code",
   "execution_count": 20,
   "id": "1b11de2a",
   "metadata": {},
   "outputs": [
    {
     "data": {
      "text/plain": [
       "Index(['distance_to_spaceship', 'fixation_duration',\n",
       "       'Dist_to_closest_obstacles', 'N_visible_obstacles', 'input_noise', 'ID',\n",
       "       'level', 'trial', 'distant_fixation', 'cluster', 'disargeement',\n",
       "       'N_qclu'],\n",
       "      dtype='object')"
      ]
     },
     "execution_count": 20,
     "metadata": {},
     "output_type": "execute_result"
    }
   ],
   "source": [
    "df.columns"
   ]
  },
  {
   "cell_type": "code",
   "execution_count": 21,
   "id": "2de559f8",
   "metadata": {},
   "outputs": [],
   "source": [
    "type_0 = df[df.N_qclu == 0]\n",
    "type_1 = df[df.N_qclu == 1]"
   ]
  },
  {
   "cell_type": "markdown",
   "id": "25223b63",
   "metadata": {},
   "source": [
    "### Distance to Spaceship"
   ]
  },
  {
   "cell_type": "code",
   "execution_count": 22,
   "id": "dc08d659",
   "metadata": {},
   "outputs": [
    {
     "data": {
      "text/plain": [
       "0.5406988301130733"
      ]
     },
     "execution_count": 22,
     "metadata": {},
     "output_type": "execute_result"
    }
   ],
   "source": [
    "_, lmbda = boxcox(type_0.distance_to_spaceship)\n",
    "lmbda"
   ]
  },
  {
   "cell_type": "code",
   "execution_count": 23,
   "id": "e6329dc9",
   "metadata": {},
   "outputs": [
    {
     "name": "stderr",
     "output_type": "stream",
     "text": [
      "/var/folders/z1/crk0j_p52yq850yynjpq93wm0000gn/T/ipykernel_1706/1701825223.py:1: SettingWithCopyWarning: \n",
      "A value is trying to be set on a copy of a slice from a DataFrame.\n",
      "Try using .loc[row_indexer,col_indexer] = value instead\n",
      "\n",
      "See the caveats in the documentation: https://pandas.pydata.org/pandas-docs/stable/user_guide/indexing.html#returning-a-view-versus-a-copy\n",
      "  type_0['distance_to_spaceship_t'] = np.sqrt(type_0.distance_to_spaceship)\n"
     ]
    }
   ],
   "source": [
    "type_0['distance_to_spaceship_t'] = np.sqrt(type_0.distance_to_spaceship)"
   ]
  },
  {
   "cell_type": "code",
   "execution_count": 24,
   "id": "1ad230ad",
   "metadata": {},
   "outputs": [
    {
     "data": {
      "text/html": [
       "<table class=\"simpletable\">\n",
       "<tr>\n",
       "       <td>Model:</td>       <td>MixedLM</td> <td>Dependent Variable:</td> <td>distance_to_spaceship_t</td>\n",
       "</tr>\n",
       "<tr>\n",
       "  <td>No. Observations:</td>  <td>12648</td>        <td>Method:</td>                 <td>ML</td>           \n",
       "</tr>\n",
       "<tr>\n",
       "     <td>No. Groups:</td>       <td>6</td>          <td>Scale:</td>                <td>0.2131</td>         \n",
       "</tr>\n",
       "<tr>\n",
       "  <td>Min. group size:</td>    <td>204</td>     <td>Log-Likelihood:</td>         <td>-8186.9219</td>       \n",
       "</tr>\n",
       "<tr>\n",
       "  <td>Max. group size:</td>   <td>4660</td>       <td>Converged:</td>                <td>Yes</td>          \n",
       "</tr>\n",
       "<tr>\n",
       "  <td>Mean group size:</td>  <td>2108.0</td>           <td></td>                      <td></td>            \n",
       "</tr>\n",
       "</table>\n",
       "<table class=\"simpletable\">\n",
       "<tr>\n",
       "       <td></td>        <th>Coef.</th> <th>Std.Err.</th>    <th>z</th>   <th>P>|z|</th> <th>[0.025</th> <th>0.975]</th>\n",
       "</tr>\n",
       "<tr>\n",
       "  <th>Intercept</th>    <td>1.568</td>   <td>0.088</td>  <td>17.863</td> <td>0.000</td>  <td>1.396</td>  <td>1.740</td>\n",
       "</tr>\n",
       "<tr>\n",
       "  <th>input_noise</th> <td>-0.021</td>   <td>0.006</td>  <td>-3.677</td> <td>0.000</td> <td>-0.033</td> <td>-0.010</td>\n",
       "</tr>\n",
       "<tr>\n",
       "  <th>Group Var</th>    <td>0.046</td>   <td>0.058</td>     <td></td>      <td></td>       <td></td>       <td></td>   \n",
       "</tr>\n",
       "</table><br/>\n"
      ],
      "text/latex": [
       "\\begin{table}\n",
       "\\caption{Mixed Linear Model Regression Results}\n",
       "\\label{}\n",
       "\\begin{center}\n",
       "\\begin{tabular}{llll}\n",
       "\\hline\n",
       "Model:            & MixedLM & Dependent Variable: & distance\\_to\\_spaceship\\_t  \\\\\n",
       "No. Observations: & 12648   & Method:             & ML                          \\\\\n",
       "No. Groups:       & 6       & Scale:              & 0.2131                      \\\\\n",
       "Min. group size:  & 204     & Log-Likelihood:     & -8186.9219                  \\\\\n",
       "Max. group size:  & 4660    & Converged:          & Yes                         \\\\\n",
       "Mean group size:  & 2108.0  &                     &                             \\\\\n",
       "\\hline\n",
       "\\end{tabular}\n",
       "\\end{center}\n",
       "\n",
       "\\begin{center}\n",
       "\\begin{tabular}{lrrrrrr}\n",
       "\\hline\n",
       "             &  Coef. & Std.Err. &      z & P$> |$z$|$ & [0.025 & 0.975]  \\\\\n",
       "\\hline\n",
       "Intercept    &  1.568 &    0.088 & 17.863 &       0.000 &  1.396 &  1.740  \\\\\n",
       "input\\_noise & -0.021 &    0.006 & -3.677 &       0.000 & -0.033 & -0.010  \\\\\n",
       "Group Var    &  0.046 &    0.058 &        &             &        &         \\\\\n",
       "\\hline\n",
       "\\end{tabular}\n",
       "\\end{center}\n",
       "\\end{table}\n",
       "\\bigskip\n"
      ],
      "text/plain": [
       "<class 'statsmodels.iolib.summary2.Summary'>\n",
       "\"\"\"\n",
       "                Mixed Linear Model Regression Results\n",
       "=====================================================================\n",
       "Model:            MixedLM Dependent Variable: distance_to_spaceship_t\n",
       "No. Observations: 12648   Method:             ML                     \n",
       "No. Groups:       6       Scale:              0.2131                 \n",
       "Min. group size:  204     Log-Likelihood:     -8186.9219             \n",
       "Max. group size:  4660    Converged:          Yes                    \n",
       "Mean group size:  2108.0                                             \n",
       "------------------------------------------------------------------------\n",
       "               Coef.     Std.Err.      z       P>|z|    [0.025    0.975]\n",
       "------------------------------------------------------------------------\n",
       "Intercept       1.568       0.088    17.863    0.000     1.396     1.740\n",
       "input_noise    -0.021       0.006    -3.677    0.000    -0.033    -0.010\n",
       "Group Var       0.046       0.058                                       \n",
       "=====================================================================\n",
       "\n",
       "\"\"\""
      ]
     },
     "execution_count": 24,
     "metadata": {},
     "output_type": "execute_result"
    }
   ],
   "source": [
    "model = smf.mixedlm(\n",
    "    \"distance_to_spaceship_t ~ input_noise\",\n",
    "    data=type_0,\n",
    "    groups=type_0[\"ID\"]\n",
    ")\n",
    "model_fit = model.fit(reml=False)\n",
    "\n",
    "model_fit.summary()"
   ]
  },
  {
   "cell_type": "code",
   "execution_count": 25,
   "id": "cbcc04e9",
   "metadata": {},
   "outputs": [
    {
     "data": {
      "text/plain": [
       "-0.8998088878601408"
      ]
     },
     "execution_count": 25,
     "metadata": {},
     "output_type": "execute_result"
    }
   ],
   "source": [
    "_, lmbda = boxcox(type_1.distance_to_spaceship)\n",
    "lmbda"
   ]
  },
  {
   "cell_type": "code",
   "execution_count": 26,
   "id": "9fcb0759",
   "metadata": {},
   "outputs": [
    {
     "name": "stderr",
     "output_type": "stream",
     "text": [
      "/var/folders/z1/crk0j_p52yq850yynjpq93wm0000gn/T/ipykernel_1706/1722555321.py:1: SettingWithCopyWarning: \n",
      "A value is trying to be set on a copy of a slice from a DataFrame.\n",
      "Try using .loc[row_indexer,col_indexer] = value instead\n",
      "\n",
      "See the caveats in the documentation: https://pandas.pydata.org/pandas-docs/stable/user_guide/indexing.html#returning-a-view-versus-a-copy\n",
      "  type_1['distance_to_spaceship_t'] = 1/type_1.distance_to_spaceship\n"
     ]
    }
   ],
   "source": [
    "type_1['distance_to_spaceship_t'] = 1/type_1.distance_to_spaceship"
   ]
  },
  {
   "cell_type": "code",
   "execution_count": 27,
   "id": "4df6792d",
   "metadata": {
    "scrolled": false
   },
   "outputs": [
    {
     "name": "stderr",
     "output_type": "stream",
     "text": [
      "/Users/heinrich/anaconda3/envs/datascience/lib/python3.9/site-packages/statsmodels/regression/mixed_linear_model.py:2238: ConvergenceWarning: The MLE may be on the boundary of the parameter space.\n",
      "  warnings.warn(msg, ConvergenceWarning)\n"
     ]
    },
    {
     "data": {
      "text/html": [
       "<table class=\"simpletable\">\n",
       "<tr>\n",
       "       <td>Model:</td>       <td>MixedLM</td> <td>Dependent Variable:</td> <td>distance_to_spaceship_t</td>\n",
       "</tr>\n",
       "<tr>\n",
       "  <td>No. Observations:</td>  <td>14765</td>        <td>Method:</td>                 <td>ML</td>           \n",
       "</tr>\n",
       "<tr>\n",
       "     <td>No. Groups:</td>       <td>6</td>          <td>Scale:</td>                <td>0.0009</td>         \n",
       "</tr>\n",
       "<tr>\n",
       "  <td>Min. group size:</td>    <td>891</td>     <td>Log-Likelihood:</td>         <td>31069.8229</td>       \n",
       "</tr>\n",
       "<tr>\n",
       "  <td>Max. group size:</td>   <td>5748</td>       <td>Converged:</td>                <td>Yes</td>          \n",
       "</tr>\n",
       "<tr>\n",
       "  <td>Mean group size:</td>  <td>2460.8</td>           <td></td>                      <td></td>            \n",
       "</tr>\n",
       "</table>\n",
       "<table class=\"simpletable\">\n",
       "<tr>\n",
       "       <td></td>        <th>Coef.</th> <th>Std.Err.</th>    <th>z</th>   <th>P>|z|</th> <th>[0.025</th> <th>0.975]</th>\n",
       "</tr>\n",
       "<tr>\n",
       "  <th>Intercept</th>    <td>0.131</td>   <td>0.003</td>  <td>43.179</td> <td>0.000</td>  <td>0.125</td>  <td>0.137</td>\n",
       "</tr>\n",
       "<tr>\n",
       "  <th>input_noise</th> <td>-0.000</td>   <td>0.000</td>  <td>-1.280</td> <td>0.200</td> <td>-0.001</td>  <td>0.000</td>\n",
       "</tr>\n",
       "<tr>\n",
       "  <th>Group Var</th>    <td>0.000</td>   <td>0.001</td>     <td></td>      <td></td>       <td></td>       <td></td>   \n",
       "</tr>\n",
       "</table><br/>\n"
      ],
      "text/latex": [
       "\\begin{table}\n",
       "\\caption{Mixed Linear Model Regression Results}\n",
       "\\label{}\n",
       "\\begin{center}\n",
       "\\begin{tabular}{llll}\n",
       "\\hline\n",
       "Model:            & MixedLM & Dependent Variable: & distance\\_to\\_spaceship\\_t  \\\\\n",
       "No. Observations: & 14765   & Method:             & ML                          \\\\\n",
       "No. Groups:       & 6       & Scale:              & 0.0009                      \\\\\n",
       "Min. group size:  & 891     & Log-Likelihood:     & 31069.8229                  \\\\\n",
       "Max. group size:  & 5748    & Converged:          & Yes                         \\\\\n",
       "Mean group size:  & 2460.8  &                     &                             \\\\\n",
       "\\hline\n",
       "\\end{tabular}\n",
       "\\end{center}\n",
       "\n",
       "\\begin{center}\n",
       "\\begin{tabular}{lrrrrrr}\n",
       "\\hline\n",
       "             &  Coef. & Std.Err. &      z & P$> |$z$|$ & [0.025 & 0.975]  \\\\\n",
       "\\hline\n",
       "Intercept    &  0.131 &    0.003 & 43.179 &       0.000 &  0.125 &  0.137  \\\\\n",
       "input\\_noise & -0.000 &    0.000 & -1.280 &       0.200 & -0.001 &  0.000  \\\\\n",
       "Group Var    &  0.000 &    0.001 &        &             &        &         \\\\\n",
       "\\hline\n",
       "\\end{tabular}\n",
       "\\end{center}\n",
       "\\end{table}\n",
       "\\bigskip\n"
      ],
      "text/plain": [
       "<class 'statsmodels.iolib.summary2.Summary'>\n",
       "\"\"\"\n",
       "                Mixed Linear Model Regression Results\n",
       "=====================================================================\n",
       "Model:            MixedLM Dependent Variable: distance_to_spaceship_t\n",
       "No. Observations: 14765   Method:             ML                     \n",
       "No. Groups:       6       Scale:              0.0009                 \n",
       "Min. group size:  891     Log-Likelihood:     31069.8229             \n",
       "Max. group size:  5748    Converged:          Yes                    \n",
       "Mean group size:  2460.8                                             \n",
       "------------------------------------------------------------------------\n",
       "               Coef.     Std.Err.      z       P>|z|    [0.025    0.975]\n",
       "------------------------------------------------------------------------\n",
       "Intercept       0.131       0.003    43.179    0.000     0.125     0.137\n",
       "input_noise    -0.000       0.000    -1.280    0.200    -0.001     0.000\n",
       "Group Var       0.000       0.001                                       \n",
       "=====================================================================\n",
       "\n",
       "\"\"\""
      ]
     },
     "execution_count": 27,
     "metadata": {},
     "output_type": "execute_result"
    }
   ],
   "source": [
    "model = smf.mixedlm(\n",
    "    \"distance_to_spaceship_t ~ input_noise\",\n",
    "    data=type_1,\n",
    "    groups=type_1[\"ID\"]\n",
    ")\n",
    "model_fit = model.fit(reml=False)\n",
    "\n",
    "model_fit.summary()"
   ]
  },
  {
   "cell_type": "markdown",
   "id": "2d8f1a49",
   "metadata": {},
   "source": [
    "### Fixation duration"
   ]
  },
  {
   "cell_type": "code",
   "execution_count": 28,
   "id": "89d6cea8",
   "metadata": {},
   "outputs": [
    {
     "data": {
      "text/plain": [
       "0.0940700507227688"
      ]
     },
     "execution_count": 28,
     "metadata": {},
     "output_type": "execute_result"
    }
   ],
   "source": [
    "_, lmbda = boxcox(type_0.fixation_duration)\n",
    "lmbda"
   ]
  },
  {
   "cell_type": "code",
   "execution_count": 29,
   "id": "eb51a454",
   "metadata": {},
   "outputs": [
    {
     "name": "stderr",
     "output_type": "stream",
     "text": [
      "/var/folders/z1/crk0j_p52yq850yynjpq93wm0000gn/T/ipykernel_1706/331492430.py:1: SettingWithCopyWarning: \n",
      "A value is trying to be set on a copy of a slice from a DataFrame.\n",
      "Try using .loc[row_indexer,col_indexer] = value instead\n",
      "\n",
      "See the caveats in the documentation: https://pandas.pydata.org/pandas-docs/stable/user_guide/indexing.html#returning-a-view-versus-a-copy\n",
      "  type_0['fixation_duration_t'] = np.log(type_0.fixation_duration)\n"
     ]
    }
   ],
   "source": [
    "type_0['fixation_duration_t'] = np.log(type_0.fixation_duration)"
   ]
  },
  {
   "cell_type": "code",
   "execution_count": 30,
   "id": "b387fa34",
   "metadata": {},
   "outputs": [
    {
     "data": {
      "text/html": [
       "<table class=\"simpletable\">\n",
       "<tr>\n",
       "       <td>Model:</td>       <td>MixedLM</td> <td>Dependent Variable:</td> <td>fixation_duration_t</td>\n",
       "</tr>\n",
       "<tr>\n",
       "  <td>No. Observations:</td>  <td>12648</td>        <td>Method:</td>               <td>ML</td>         \n",
       "</tr>\n",
       "<tr>\n",
       "     <td>No. Groups:</td>       <td>6</td>          <td>Scale:</td>              <td>1.9950</td>       \n",
       "</tr>\n",
       "<tr>\n",
       "  <td>Min. group size:</td>    <td>204</td>     <td>Log-Likelihood:</td>       <td>-22336.5143</td>    \n",
       "</tr>\n",
       "<tr>\n",
       "  <td>Max. group size:</td>   <td>4660</td>       <td>Converged:</td>              <td>Yes</td>        \n",
       "</tr>\n",
       "<tr>\n",
       "  <td>Mean group size:</td>  <td>2108.0</td>           <td></td>                    <td></td>          \n",
       "</tr>\n",
       "</table>\n",
       "<table class=\"simpletable\">\n",
       "<tr>\n",
       "       <td></td>        <th>Coef.</th> <th>Std.Err.</th>    <th>z</th>   <th>P>|z|</th> <th>[0.025</th> <th>0.975]</th>\n",
       "</tr>\n",
       "<tr>\n",
       "  <th>Intercept</th>   <td>-2.072</td>   <td>0.604</td>  <td>-3.429</td> <td>0.001</td> <td>-3.256</td> <td>-0.888</td>\n",
       "</tr>\n",
       "<tr>\n",
       "  <th>input_noise</th> <td>-0.094</td>   <td>0.018</td>  <td>-5.326</td> <td>0.000</td> <td>-0.129</td> <td>-0.060</td>\n",
       "</tr>\n",
       "<tr>\n",
       "  <th>Group Var</th>    <td>2.185</td>   <td>0.888</td>     <td></td>      <td></td>       <td></td>       <td></td>   \n",
       "</tr>\n",
       "</table><br/>\n"
      ],
      "text/latex": [
       "\\begin{table}\n",
       "\\caption{Mixed Linear Model Regression Results}\n",
       "\\label{}\n",
       "\\begin{center}\n",
       "\\begin{tabular}{llll}\n",
       "\\hline\n",
       "Model:            & MixedLM & Dependent Variable: & fixation\\_duration\\_t  \\\\\n",
       "No. Observations: & 12648   & Method:             & ML                     \\\\\n",
       "No. Groups:       & 6       & Scale:              & 1.9950                 \\\\\n",
       "Min. group size:  & 204     & Log-Likelihood:     & -22336.5143            \\\\\n",
       "Max. group size:  & 4660    & Converged:          & Yes                    \\\\\n",
       "Mean group size:  & 2108.0  &                     &                        \\\\\n",
       "\\hline\n",
       "\\end{tabular}\n",
       "\\end{center}\n",
       "\n",
       "\\begin{center}\n",
       "\\begin{tabular}{lrrrrrr}\n",
       "\\hline\n",
       "             &  Coef. & Std.Err. &      z & P$> |$z$|$ & [0.025 & 0.975]  \\\\\n",
       "\\hline\n",
       "Intercept    & -2.072 &    0.604 & -3.429 &       0.001 & -3.256 & -0.888  \\\\\n",
       "input\\_noise & -0.094 &    0.018 & -5.326 &       0.000 & -0.129 & -0.060  \\\\\n",
       "Group Var    &  2.185 &    0.888 &        &             &        &         \\\\\n",
       "\\hline\n",
       "\\end{tabular}\n",
       "\\end{center}\n",
       "\\end{table}\n",
       "\\bigskip\n"
      ],
      "text/plain": [
       "<class 'statsmodels.iolib.summary2.Summary'>\n",
       "\"\"\"\n",
       "              Mixed Linear Model Regression Results\n",
       "=================================================================\n",
       "Model:            MixedLM Dependent Variable: fixation_duration_t\n",
       "No. Observations: 12648   Method:             ML                 \n",
       "No. Groups:       6       Scale:              1.9950             \n",
       "Min. group size:  204     Log-Likelihood:     -22336.5143        \n",
       "Max. group size:  4660    Converged:          Yes                \n",
       "Mean group size:  2108.0                                         \n",
       "-------------------------------------------------------------------\n",
       "               Coef.    Std.Err.     z      P>|z|   [0.025   0.975]\n",
       "-------------------------------------------------------------------\n",
       "Intercept      -2.072      0.604   -3.429   0.001   -3.256   -0.888\n",
       "input_noise    -0.094      0.018   -5.326   0.000   -0.129   -0.060\n",
       "Group Var       2.185      0.888                                   \n",
       "=================================================================\n",
       "\n",
       "\"\"\""
      ]
     },
     "execution_count": 30,
     "metadata": {},
     "output_type": "execute_result"
    }
   ],
   "source": [
    "model = smf.mixedlm(\n",
    "    \"fixation_duration_t ~ input_noise\",\n",
    "    data=type_0,\n",
    "    groups=type_0[\"ID\"]\n",
    ")\n",
    "model_fit = model.fit(reml=False)\n",
    "\n",
    "model_fit.summary()"
   ]
  },
  {
   "cell_type": "code",
   "execution_count": 31,
   "id": "b868dfb1",
   "metadata": {},
   "outputs": [
    {
     "data": {
      "text/plain": [
       "-0.016656559488899835"
      ]
     },
     "execution_count": 31,
     "metadata": {},
     "output_type": "execute_result"
    }
   ],
   "source": [
    "_, lmbda = boxcox(type_1.fixation_duration)\n",
    "lmbda"
   ]
  },
  {
   "cell_type": "code",
   "execution_count": 32,
   "id": "1085fd63",
   "metadata": {},
   "outputs": [
    {
     "name": "stderr",
     "output_type": "stream",
     "text": [
      "/var/folders/z1/crk0j_p52yq850yynjpq93wm0000gn/T/ipykernel_1706/3574830597.py:1: SettingWithCopyWarning: \n",
      "A value is trying to be set on a copy of a slice from a DataFrame.\n",
      "Try using .loc[row_indexer,col_indexer] = value instead\n",
      "\n",
      "See the caveats in the documentation: https://pandas.pydata.org/pandas-docs/stable/user_guide/indexing.html#returning-a-view-versus-a-copy\n",
      "  type_1['fixation_duration_t'] = np.log(type_1.fixation_duration)\n"
     ]
    }
   ],
   "source": [
    "type_1['fixation_duration_t'] = np.log(type_1.fixation_duration)"
   ]
  },
  {
   "cell_type": "code",
   "execution_count": 33,
   "id": "d81cfeea",
   "metadata": {},
   "outputs": [
    {
     "data": {
      "text/html": [
       "<table class=\"simpletable\">\n",
       "<tr>\n",
       "       <td>Model:</td>       <td>MixedLM</td> <td>Dependent Variable:</td> <td>fixation_duration_t</td>\n",
       "</tr>\n",
       "<tr>\n",
       "  <td>No. Observations:</td>  <td>14765</td>        <td>Method:</td>               <td>ML</td>         \n",
       "</tr>\n",
       "<tr>\n",
       "     <td>No. Groups:</td>       <td>6</td>          <td>Scale:</td>              <td>1.9571</td>       \n",
       "</tr>\n",
       "<tr>\n",
       "  <td>Min. group size:</td>    <td>891</td>     <td>Log-Likelihood:</td>       <td>-25930.6529</td>    \n",
       "</tr>\n",
       "<tr>\n",
       "  <td>Max. group size:</td>   <td>5748</td>       <td>Converged:</td>              <td>Yes</td>        \n",
       "</tr>\n",
       "<tr>\n",
       "  <td>Mean group size:</td>  <td>2460.8</td>           <td></td>                    <td></td>          \n",
       "</tr>\n",
       "</table>\n",
       "<table class=\"simpletable\">\n",
       "<tr>\n",
       "       <td></td>        <th>Coef.</th> <th>Std.Err.</th>    <th>z</th>   <th>P>|z|</th> <th>[0.025</th> <th>0.975]</th>\n",
       "</tr>\n",
       "<tr>\n",
       "  <th>Intercept</th>   <td>-2.448</td>   <td>0.584</td>  <td>-4.193</td> <td>0.000</td> <td>-3.593</td> <td>-1.304</td>\n",
       "</tr>\n",
       "<tr>\n",
       "  <th>input_noise</th>  <td>0.039</td>   <td>0.016</td>   <td>2.411</td> <td>0.016</td>  <td>0.007</td>  <td>0.071</td>\n",
       "</tr>\n",
       "<tr>\n",
       "  <th>Group Var</th>    <td>2.043</td>   <td>0.842</td>     <td></td>      <td></td>       <td></td>       <td></td>   \n",
       "</tr>\n",
       "</table><br/>\n"
      ],
      "text/latex": [
       "\\begin{table}\n",
       "\\caption{Mixed Linear Model Regression Results}\n",
       "\\label{}\n",
       "\\begin{center}\n",
       "\\begin{tabular}{llll}\n",
       "\\hline\n",
       "Model:            & MixedLM & Dependent Variable: & fixation\\_duration\\_t  \\\\\n",
       "No. Observations: & 14765   & Method:             & ML                     \\\\\n",
       "No. Groups:       & 6       & Scale:              & 1.9571                 \\\\\n",
       "Min. group size:  & 891     & Log-Likelihood:     & -25930.6529            \\\\\n",
       "Max. group size:  & 5748    & Converged:          & Yes                    \\\\\n",
       "Mean group size:  & 2460.8  &                     &                        \\\\\n",
       "\\hline\n",
       "\\end{tabular}\n",
       "\\end{center}\n",
       "\n",
       "\\begin{center}\n",
       "\\begin{tabular}{lrrrrrr}\n",
       "\\hline\n",
       "             &  Coef. & Std.Err. &      z & P$> |$z$|$ & [0.025 & 0.975]  \\\\\n",
       "\\hline\n",
       "Intercept    & -2.448 &    0.584 & -4.193 &       0.000 & -3.593 & -1.304  \\\\\n",
       "input\\_noise &  0.039 &    0.016 &  2.411 &       0.016 &  0.007 &  0.071  \\\\\n",
       "Group Var    &  2.043 &    0.842 &        &             &        &         \\\\\n",
       "\\hline\n",
       "\\end{tabular}\n",
       "\\end{center}\n",
       "\\end{table}\n",
       "\\bigskip\n"
      ],
      "text/plain": [
       "<class 'statsmodels.iolib.summary2.Summary'>\n",
       "\"\"\"\n",
       "              Mixed Linear Model Regression Results\n",
       "=================================================================\n",
       "Model:            MixedLM Dependent Variable: fixation_duration_t\n",
       "No. Observations: 14765   Method:             ML                 \n",
       "No. Groups:       6       Scale:              1.9571             \n",
       "Min. group size:  891     Log-Likelihood:     -25930.6529        \n",
       "Max. group size:  5748    Converged:          Yes                \n",
       "Mean group size:  2460.8                                         \n",
       "-------------------------------------------------------------------\n",
       "               Coef.    Std.Err.     z      P>|z|   [0.025   0.975]\n",
       "-------------------------------------------------------------------\n",
       "Intercept      -2.448      0.584   -4.193   0.000   -3.593   -1.304\n",
       "input_noise     0.039      0.016    2.411   0.016    0.007    0.071\n",
       "Group Var       2.043      0.842                                   \n",
       "=================================================================\n",
       "\n",
       "\"\"\""
      ]
     },
     "execution_count": 33,
     "metadata": {},
     "output_type": "execute_result"
    }
   ],
   "source": [
    "model = smf.mixedlm(\n",
    "    \"fixation_duration_t ~ input_noise\",\n",
    "    data=type_1,\n",
    "    groups=type_1[\"ID\"]\n",
    ")\n",
    "model_fit = model.fit(reml=False)\n",
    "\n",
    "model_fit.summary()"
   ]
  },
  {
   "cell_type": "markdown",
   "id": "d1e3163e",
   "metadata": {},
   "source": [
    "### Distance to closest obstacle"
   ]
  },
  {
   "cell_type": "code",
   "execution_count": 34,
   "id": "30fb4671",
   "metadata": {},
   "outputs": [
    {
     "data": {
      "text/plain": [
       "0.16203584042677063"
      ]
     },
     "execution_count": 34,
     "metadata": {},
     "output_type": "execute_result"
    }
   ],
   "source": [
    "_, lmbda = boxcox(type_0.Dist_to_closest_obstacles)\n",
    "lmbda"
   ]
  },
  {
   "cell_type": "code",
   "execution_count": 35,
   "id": "8e000bdd",
   "metadata": {},
   "outputs": [
    {
     "name": "stderr",
     "output_type": "stream",
     "text": [
      "/var/folders/z1/crk0j_p52yq850yynjpq93wm0000gn/T/ipykernel_1706/642020871.py:1: SettingWithCopyWarning: \n",
      "A value is trying to be set on a copy of a slice from a DataFrame.\n",
      "Try using .loc[row_indexer,col_indexer] = value instead\n",
      "\n",
      "See the caveats in the documentation: https://pandas.pydata.org/pandas-docs/stable/user_guide/indexing.html#returning-a-view-versus-a-copy\n",
      "  type_0['Dist_to_closest_obstacles_t'] = np.log(type_0.Dist_to_closest_obstacles)\n"
     ]
    }
   ],
   "source": [
    "type_0['Dist_to_closest_obstacles_t'] = np.log(type_0.Dist_to_closest_obstacles)"
   ]
  },
  {
   "cell_type": "code",
   "execution_count": 36,
   "id": "1b1e0476",
   "metadata": {},
   "outputs": [
    {
     "name": "stderr",
     "output_type": "stream",
     "text": [
      "/Users/heinrich/anaconda3/envs/datascience/lib/python3.9/site-packages/statsmodels/regression/mixed_linear_model.py:2238: ConvergenceWarning: The MLE may be on the boundary of the parameter space.\n",
      "  warnings.warn(msg, ConvergenceWarning)\n"
     ]
    },
    {
     "data": {
      "text/html": [
       "<table class=\"simpletable\">\n",
       "<tr>\n",
       "       <td>Model:</td>       <td>MixedLM</td> <td>Dependent Variable:</td> <td>Dist_to_closest_obstacles_t</td>\n",
       "</tr>\n",
       "<tr>\n",
       "  <td>No. Observations:</td>  <td>12648</td>        <td>Method:</td>                   <td>ML</td>             \n",
       "</tr>\n",
       "<tr>\n",
       "     <td>No. Groups:</td>       <td>6</td>          <td>Scale:</td>                  <td>0.3119</td>           \n",
       "</tr>\n",
       "<tr>\n",
       "  <td>Min. group size:</td>    <td>204</td>     <td>Log-Likelihood:</td>           <td>-10590.7906</td>        \n",
       "</tr>\n",
       "<tr>\n",
       "  <td>Max. group size:</td>   <td>4660</td>       <td>Converged:</td>                  <td>Yes</td>            \n",
       "</tr>\n",
       "<tr>\n",
       "  <td>Mean group size:</td>  <td>2108.0</td>           <td></td>                        <td></td>              \n",
       "</tr>\n",
       "</table>\n",
       "<table class=\"simpletable\">\n",
       "<tr>\n",
       "       <td></td>        <th>Coef.</th> <th>Std.Err.</th>    <th>z</th>   <th>P>|z|</th> <th>[0.025</th> <th>0.975]</th>\n",
       "</tr>\n",
       "<tr>\n",
       "  <th>Intercept</th>    <td>1.037</td>   <td>0.041</td>  <td>25.306</td> <td>0.000</td>  <td>0.957</td>  <td>1.117</td>\n",
       "</tr>\n",
       "<tr>\n",
       "  <th>input_noise</th> <td>-0.001</td>   <td>0.007</td>  <td>-0.130</td> <td>0.897</td> <td>-0.015</td>  <td>0.013</td>\n",
       "</tr>\n",
       "<tr>\n",
       "  <th>Group Var</th>    <td>0.009</td>   <td>0.010</td>     <td></td>      <td></td>       <td></td>       <td></td>   \n",
       "</tr>\n",
       "</table><br/>\n"
      ],
      "text/latex": [
       "\\begin{table}\n",
       "\\caption{Mixed Linear Model Regression Results}\n",
       "\\label{}\n",
       "\\begin{center}\n",
       "\\begin{tabular}{llll}\n",
       "\\hline\n",
       "Model:            & MixedLM & Dependent Variable: & Dist\\_to\\_closest\\_obstacles\\_t  \\\\\n",
       "No. Observations: & 12648   & Method:             & ML                               \\\\\n",
       "No. Groups:       & 6       & Scale:              & 0.3119                           \\\\\n",
       "Min. group size:  & 204     & Log-Likelihood:     & -10590.7906                      \\\\\n",
       "Max. group size:  & 4660    & Converged:          & Yes                              \\\\\n",
       "Mean group size:  & 2108.0  &                     &                                  \\\\\n",
       "\\hline\n",
       "\\end{tabular}\n",
       "\\end{center}\n",
       "\n",
       "\\begin{center}\n",
       "\\begin{tabular}{lrrrrrr}\n",
       "\\hline\n",
       "             &  Coef. & Std.Err. &      z & P$> |$z$|$ & [0.025 & 0.975]  \\\\\n",
       "\\hline\n",
       "Intercept    &  1.037 &    0.041 & 25.306 &       0.000 &  0.957 &  1.117  \\\\\n",
       "input\\_noise & -0.001 &    0.007 & -0.130 &       0.897 & -0.015 &  0.013  \\\\\n",
       "Group Var    &  0.009 &    0.010 &        &             &        &         \\\\\n",
       "\\hline\n",
       "\\end{tabular}\n",
       "\\end{center}\n",
       "\\end{table}\n",
       "\\bigskip\n"
      ],
      "text/plain": [
       "<class 'statsmodels.iolib.summary2.Summary'>\n",
       "\"\"\"\n",
       "                  Mixed Linear Model Regression Results\n",
       "=========================================================================\n",
       "Model:            MixedLM Dependent Variable: Dist_to_closest_obstacles_t\n",
       "No. Observations: 12648   Method:             ML                         \n",
       "No. Groups:       6       Scale:              0.3119                     \n",
       "Min. group size:  204     Log-Likelihood:     -10590.7906                \n",
       "Max. group size:  4660    Converged:          Yes                        \n",
       "Mean group size:  2108.0                                                 \n",
       "----------------------------------------------------------------------------\n",
       "                   Coef.     Std.Err.      z       P>|z|    [0.025    0.975]\n",
       "----------------------------------------------------------------------------\n",
       "Intercept           1.037       0.041    25.306    0.000     0.957     1.117\n",
       "input_noise        -0.001       0.007    -0.130    0.897    -0.015     0.013\n",
       "Group Var           0.009       0.010                                       \n",
       "=========================================================================\n",
       "\n",
       "\"\"\""
      ]
     },
     "execution_count": 36,
     "metadata": {},
     "output_type": "execute_result"
    }
   ],
   "source": [
    "model = smf.mixedlm(\n",
    "    \"Dist_to_closest_obstacles_t ~ input_noise\",\n",
    "    data=type_0,\n",
    "    groups=type_0[\"ID\"]\n",
    ")\n",
    "model_fit = model.fit(reml=False)\n",
    "\n",
    "model_fit.summary()"
   ]
  },
  {
   "cell_type": "code",
   "execution_count": 37,
   "id": "230f1e7f",
   "metadata": {},
   "outputs": [
    {
     "data": {
      "text/plain": [
       "0.24737817865656006"
      ]
     },
     "execution_count": 37,
     "metadata": {},
     "output_type": "execute_result"
    }
   ],
   "source": [
    "_, lmbda = boxcox(type_1.Dist_to_closest_obstacles)\n",
    "lmbda"
   ]
  },
  {
   "cell_type": "code",
   "execution_count": 38,
   "id": "3b331465",
   "metadata": {},
   "outputs": [
    {
     "name": "stderr",
     "output_type": "stream",
     "text": [
      "/var/folders/z1/crk0j_p52yq850yynjpq93wm0000gn/T/ipykernel_1706/2089663632.py:1: SettingWithCopyWarning: \n",
      "A value is trying to be set on a copy of a slice from a DataFrame.\n",
      "Try using .loc[row_indexer,col_indexer] = value instead\n",
      "\n",
      "See the caveats in the documentation: https://pandas.pydata.org/pandas-docs/stable/user_guide/indexing.html#returning-a-view-versus-a-copy\n",
      "  type_1['Dist_to_closest_obstacles_t'] = np.log(type_1.Dist_to_closest_obstacles)\n"
     ]
    }
   ],
   "source": [
    "type_1['Dist_to_closest_obstacles_t'] = np.log(type_1.Dist_to_closest_obstacles)"
   ]
  },
  {
   "cell_type": "code",
   "execution_count": 39,
   "id": "26627208",
   "metadata": {},
   "outputs": [
    {
     "name": "stderr",
     "output_type": "stream",
     "text": [
      "/Users/heinrich/anaconda3/envs/datascience/lib/python3.9/site-packages/statsmodels/regression/mixed_linear_model.py:2238: ConvergenceWarning: The MLE may be on the boundary of the parameter space.\n",
      "  warnings.warn(msg, ConvergenceWarning)\n"
     ]
    },
    {
     "data": {
      "text/html": [
       "<table class=\"simpletable\">\n",
       "<tr>\n",
       "       <td>Model:</td>       <td>MixedLM</td> <td>Dependent Variable:</td> <td>Dist_to_closest_obstacles_t</td>\n",
       "</tr>\n",
       "<tr>\n",
       "  <td>No. Observations:</td>  <td>14765</td>        <td>Method:</td>                   <td>ML</td>             \n",
       "</tr>\n",
       "<tr>\n",
       "     <td>No. Groups:</td>       <td>6</td>          <td>Scale:</td>                  <td>0.2060</td>           \n",
       "</tr>\n",
       "<tr>\n",
       "  <td>Min. group size:</td>    <td>891</td>     <td>Log-Likelihood:</td>           <td>-9298.4565</td>         \n",
       "</tr>\n",
       "<tr>\n",
       "  <td>Max. group size:</td>   <td>5748</td>       <td>Converged:</td>                  <td>Yes</td>            \n",
       "</tr>\n",
       "<tr>\n",
       "  <td>Mean group size:</td>  <td>2460.8</td>           <td></td>                        <td></td>              \n",
       "</tr>\n",
       "</table>\n",
       "<table class=\"simpletable\">\n",
       "<tr>\n",
       "       <td></td>       <th>Coef.</th> <th>Std.Err.</th>    <th>z</th>   <th>P>|z|</th> <th>[0.025</th> <th>0.975]</th>\n",
       "</tr>\n",
       "<tr>\n",
       "  <th>Intercept</th>   <td>1.324</td>   <td>0.029</td>  <td>46.278</td> <td>0.000</td>  <td>1.268</td>  <td>1.380</td>\n",
       "</tr>\n",
       "<tr>\n",
       "  <th>input_noise</th> <td>0.034</td>   <td>0.005</td>   <td>6.501</td> <td>0.000</td>  <td>0.024</td>  <td>0.045</td>\n",
       "</tr>\n",
       "<tr>\n",
       "  <th>Group Var</th>   <td>0.005</td>   <td>0.006</td>     <td></td>      <td></td>       <td></td>       <td></td>   \n",
       "</tr>\n",
       "</table><br/>\n"
      ],
      "text/latex": [
       "\\begin{table}\n",
       "\\caption{Mixed Linear Model Regression Results}\n",
       "\\label{}\n",
       "\\begin{center}\n",
       "\\begin{tabular}{llll}\n",
       "\\hline\n",
       "Model:            & MixedLM & Dependent Variable: & Dist\\_to\\_closest\\_obstacles\\_t  \\\\\n",
       "No. Observations: & 14765   & Method:             & ML                               \\\\\n",
       "No. Groups:       & 6       & Scale:              & 0.2060                           \\\\\n",
       "Min. group size:  & 891     & Log-Likelihood:     & -9298.4565                       \\\\\n",
       "Max. group size:  & 5748    & Converged:          & Yes                              \\\\\n",
       "Mean group size:  & 2460.8  &                     &                                  \\\\\n",
       "\\hline\n",
       "\\end{tabular}\n",
       "\\end{center}\n",
       "\n",
       "\\begin{center}\n",
       "\\begin{tabular}{lrrrrrr}\n",
       "\\hline\n",
       "             & Coef. & Std.Err. &      z & P$> |$z$|$ & [0.025 & 0.975]  \\\\\n",
       "\\hline\n",
       "Intercept    & 1.324 &    0.029 & 46.278 &       0.000 &  1.268 &  1.380  \\\\\n",
       "input\\_noise & 0.034 &    0.005 &  6.501 &       0.000 &  0.024 &  0.045  \\\\\n",
       "Group Var    & 0.005 &    0.006 &        &             &        &         \\\\\n",
       "\\hline\n",
       "\\end{tabular}\n",
       "\\end{center}\n",
       "\\end{table}\n",
       "\\bigskip\n"
      ],
      "text/plain": [
       "<class 'statsmodels.iolib.summary2.Summary'>\n",
       "\"\"\"\n",
       "                  Mixed Linear Model Regression Results\n",
       "=========================================================================\n",
       "Model:            MixedLM Dependent Variable: Dist_to_closest_obstacles_t\n",
       "No. Observations: 14765   Method:             ML                         \n",
       "No. Groups:       6       Scale:              0.2060                     \n",
       "Min. group size:  891     Log-Likelihood:     -9298.4565                 \n",
       "Max. group size:  5748    Converged:          Yes                        \n",
       "Mean group size:  2460.8                                                 \n",
       "-----------------------------------------------------------------------------\n",
       "                Coef.     Std.Err.       z        P>|z|     [0.025     0.975]\n",
       "-----------------------------------------------------------------------------\n",
       "Intercept       1.324        0.029     46.278     0.000      1.268      1.380\n",
       "input_noise     0.034        0.005      6.501     0.000      0.024      0.045\n",
       "Group Var       0.005        0.006                                           \n",
       "=========================================================================\n",
       "\n",
       "\"\"\""
      ]
     },
     "execution_count": 39,
     "metadata": {},
     "output_type": "execute_result"
    }
   ],
   "source": [
    "model = smf.mixedlm(\n",
    "    \"Dist_to_closest_obstacles_t ~ input_noise\",\n",
    "    data=type_1,\n",
    "    groups=type_1[\"ID\"]\n",
    ")\n",
    "model_fit = model.fit(reml=False)\n",
    "\n",
    "model_fit.summary()"
   ]
  },
  {
   "cell_type": "code",
   "execution_count": null,
   "id": "0a20be43",
   "metadata": {},
   "outputs": [],
   "source": []
  }
 ],
 "metadata": {
  "kernelspec": {
   "display_name": "datascience",
   "language": "python",
   "name": "datascience"
  },
  "language_info": {
   "codemirror_mode": {
    "name": "ipython",
    "version": 3
   },
   "file_extension": ".py",
   "mimetype": "text/x-python",
   "name": "python",
   "nbconvert_exporter": "python",
   "pygments_lexer": "ipython3",
   "version": "3.9.18"
  }
 },
 "nbformat": 4,
 "nbformat_minor": 5
}
