{
 "cells": [
  {
   "cell_type": "code",
   "execution_count": 127,
   "id": "a44cab7d",
   "metadata": {},
   "outputs": [],
   "source": [
    "import numpy as np\n",
    "import pandas as pd\n",
    "import pyarrow as pa\n",
    "import statsmodels.formula.api as smf\n",
    "from scipy.stats import boxcox, probplot, norm\n",
    "from sklearn.preprocessing import StandardScaler\n",
    "from sklearn.decomposition import PCA\n",
    "import seaborn as sns\n",
    "import matplotlib.pyplot as plt\n",
    "from QuClu import myfunctions"
   ]
  },
  {
   "cell_type": "code",
   "execution_count": 53,
   "id": "2b404e28",
   "metadata": {},
   "outputs": [
    {
     "data": {
      "text/html": [
       "<div>\n",
       "<style scoped>\n",
       "    .dataframe tbody tr th:only-of-type {\n",
       "        vertical-align: middle;\n",
       "    }\n",
       "\n",
       "    .dataframe tbody tr th {\n",
       "        vertical-align: top;\n",
       "    }\n",
       "\n",
       "    .dataframe thead th {\n",
       "        text-align: right;\n",
       "    }\n",
       "</style>\n",
       "<table border=\"1\" class=\"dataframe\">\n",
       "  <thead>\n",
       "    <tr style=\"text-align: right;\">\n",
       "      <th></th>\n",
       "      <th>distance_to_spaceship</th>\n",
       "      <th>fixation_duration</th>\n",
       "      <th>Dist_to_closest_obstacles</th>\n",
       "      <th>N_visible_obstacles</th>\n",
       "      <th>input_noise</th>\n",
       "      <th>ID</th>\n",
       "      <th>level</th>\n",
       "      <th>trial</th>\n",
       "      <th>distant_fixation</th>\n",
       "      <th>cluster</th>\n",
       "      <th>disargeement</th>\n",
       "    </tr>\n",
       "  </thead>\n",
       "  <tbody>\n",
       "    <tr>\n",
       "      <th>0</th>\n",
       "      <td>6.532785</td>\n",
       "      <td>0.1470</td>\n",
       "      <td>6.097491</td>\n",
       "      <td>6.0</td>\n",
       "      <td>0.0</td>\n",
       "      <td>AU25IL</td>\n",
       "      <td>1.0</td>\n",
       "      <td>15</td>\n",
       "      <td>1.0</td>\n",
       "      <td>1</td>\n",
       "      <td>1.0</td>\n",
       "    </tr>\n",
       "    <tr>\n",
       "      <th>1</th>\n",
       "      <td>6.075962</td>\n",
       "      <td>0.6490</td>\n",
       "      <td>2.892411</td>\n",
       "      <td>5.0</td>\n",
       "      <td>0.0</td>\n",
       "      <td>AU25IL</td>\n",
       "      <td>1.0</td>\n",
       "      <td>15</td>\n",
       "      <td>1.0</td>\n",
       "      <td>1</td>\n",
       "      <td>1.0</td>\n",
       "    </tr>\n",
       "    <tr>\n",
       "      <th>2</th>\n",
       "      <td>8.698109</td>\n",
       "      <td>0.5380</td>\n",
       "      <td>3.681632</td>\n",
       "      <td>6.0</td>\n",
       "      <td>0.0</td>\n",
       "      <td>AU25IL</td>\n",
       "      <td>1.0</td>\n",
       "      <td>15</td>\n",
       "      <td>1.0</td>\n",
       "      <td>1</td>\n",
       "      <td>1.0</td>\n",
       "    </tr>\n",
       "    <tr>\n",
       "      <th>3</th>\n",
       "      <td>6.840493</td>\n",
       "      <td>0.2160</td>\n",
       "      <td>5.004505</td>\n",
       "      <td>5.0</td>\n",
       "      <td>0.0</td>\n",
       "      <td>AU25IL</td>\n",
       "      <td>1.0</td>\n",
       "      <td>15</td>\n",
       "      <td>1.0</td>\n",
       "      <td>1</td>\n",
       "      <td>1.0</td>\n",
       "    </tr>\n",
       "    <tr>\n",
       "      <th>4</th>\n",
       "      <td>6.132214</td>\n",
       "      <td>0.3785</td>\n",
       "      <td>4.208327</td>\n",
       "      <td>6.0</td>\n",
       "      <td>0.0</td>\n",
       "      <td>AU25IL</td>\n",
       "      <td>1.0</td>\n",
       "      <td>15</td>\n",
       "      <td>1.0</td>\n",
       "      <td>1</td>\n",
       "      <td>1.0</td>\n",
       "    </tr>\n",
       "    <tr>\n",
       "      <th>...</th>\n",
       "      <td>...</td>\n",
       "      <td>...</td>\n",
       "      <td>...</td>\n",
       "      <td>...</td>\n",
       "      <td>...</td>\n",
       "      <td>...</td>\n",
       "      <td>...</td>\n",
       "      <td>...</td>\n",
       "      <td>...</td>\n",
       "      <td>...</td>\n",
       "      <td>...</td>\n",
       "    </tr>\n",
       "    <tr>\n",
       "      <th>27408</th>\n",
       "      <td>2.140648</td>\n",
       "      <td>0.0455</td>\n",
       "      <td>5.550318</td>\n",
       "      <td>2.0</td>\n",
       "      <td>2.0</td>\n",
       "      <td>IA19EI</td>\n",
       "      <td>6.0</td>\n",
       "      <td>11</td>\n",
       "      <td>0.0</td>\n",
       "      <td>0</td>\n",
       "      <td>1.0</td>\n",
       "    </tr>\n",
       "    <tr>\n",
       "      <th>27409</th>\n",
       "      <td>1.782098</td>\n",
       "      <td>0.0445</td>\n",
       "      <td>5.788002</td>\n",
       "      <td>2.0</td>\n",
       "      <td>2.0</td>\n",
       "      <td>IA19EI</td>\n",
       "      <td>6.0</td>\n",
       "      <td>11</td>\n",
       "      <td>0.0</td>\n",
       "      <td>0</td>\n",
       "      <td>1.0</td>\n",
       "    </tr>\n",
       "    <tr>\n",
       "      <th>27410</th>\n",
       "      <td>1.654277</td>\n",
       "      <td>0.0290</td>\n",
       "      <td>6.121837</td>\n",
       "      <td>2.0</td>\n",
       "      <td>2.0</td>\n",
       "      <td>IA19EI</td>\n",
       "      <td>6.0</td>\n",
       "      <td>11</td>\n",
       "      <td>0.0</td>\n",
       "      <td>0</td>\n",
       "      <td>1.0</td>\n",
       "    </tr>\n",
       "    <tr>\n",
       "      <th>27411</th>\n",
       "      <td>1.579990</td>\n",
       "      <td>0.0030</td>\n",
       "      <td>6.335640</td>\n",
       "      <td>2.0</td>\n",
       "      <td>2.0</td>\n",
       "      <td>IA19EI</td>\n",
       "      <td>6.0</td>\n",
       "      <td>11</td>\n",
       "      <td>0.0</td>\n",
       "      <td>0</td>\n",
       "      <td>1.0</td>\n",
       "    </tr>\n",
       "    <tr>\n",
       "      <th>27412</th>\n",
       "      <td>1.581537</td>\n",
       "      <td>0.0060</td>\n",
       "      <td>6.500759</td>\n",
       "      <td>2.0</td>\n",
       "      <td>2.0</td>\n",
       "      <td>IA19EI</td>\n",
       "      <td>6.0</td>\n",
       "      <td>11</td>\n",
       "      <td>0.0</td>\n",
       "      <td>0</td>\n",
       "      <td>1.0</td>\n",
       "    </tr>\n",
       "  </tbody>\n",
       "</table>\n",
       "<p>27413 rows × 11 columns</p>\n",
       "</div>"
      ],
      "text/plain": [
       "       distance_to_spaceship  fixation_duration  Dist_to_closest_obstacles  \\\n",
       "0                   6.532785             0.1470                   6.097491   \n",
       "1                   6.075962             0.6490                   2.892411   \n",
       "2                   8.698109             0.5380                   3.681632   \n",
       "3                   6.840493             0.2160                   5.004505   \n",
       "4                   6.132214             0.3785                   4.208327   \n",
       "...                      ...                ...                        ...   \n",
       "27408               2.140648             0.0455                   5.550318   \n",
       "27409               1.782098             0.0445                   5.788002   \n",
       "27410               1.654277             0.0290                   6.121837   \n",
       "27411               1.579990             0.0030                   6.335640   \n",
       "27412               1.581537             0.0060                   6.500759   \n",
       "\n",
       "       N_visible_obstacles  input_noise      ID  level trial  \\\n",
       "0                      6.0          0.0  AU25IL    1.0    15   \n",
       "1                      5.0          0.0  AU25IL    1.0    15   \n",
       "2                      6.0          0.0  AU25IL    1.0    15   \n",
       "3                      5.0          0.0  AU25IL    1.0    15   \n",
       "4                      6.0          0.0  AU25IL    1.0    15   \n",
       "...                    ...          ...     ...    ...   ...   \n",
       "27408                  2.0          2.0  IA19EI    6.0    11   \n",
       "27409                  2.0          2.0  IA19EI    6.0    11   \n",
       "27410                  2.0          2.0  IA19EI    6.0    11   \n",
       "27411                  2.0          2.0  IA19EI    6.0    11   \n",
       "27412                  2.0          2.0  IA19EI    6.0    11   \n",
       "\n",
       "       distant_fixation cluster  disargeement  \n",
       "0                   1.0       1           1.0  \n",
       "1                   1.0       1           1.0  \n",
       "2                   1.0       1           1.0  \n",
       "3                   1.0       1           1.0  \n",
       "4                   1.0       1           1.0  \n",
       "...                 ...     ...           ...  \n",
       "27408               0.0       0           1.0  \n",
       "27409               0.0       0           1.0  \n",
       "27410               0.0       0           1.0  \n",
       "27411               0.0       0           1.0  \n",
       "27412               0.0       0           1.0  \n",
       "\n",
       "[27413 rows x 11 columns]"
      ]
     },
     "execution_count": 53,
     "metadata": {},
     "output_type": "execute_result"
    }
   ],
   "source": [
    "with pa.memory_map('data/Experiment3_AllFixations_short.arrow', 'r') as source:\n",
    "    data = pa.ipc.open_file(source).read_all()\n",
    "    \n",
    "df = data.to_pandas()\n",
    "df"
   ]
  },
  {
   "cell_type": "code",
   "execution_count": 54,
   "id": "c4da75a6",
   "metadata": {},
   "outputs": [
    {
     "data": {
      "text/plain": [
       "Index(['distance_to_spaceship', 'fixation_duration',\n",
       "       'Dist_to_closest_obstacles', 'N_visible_obstacles', 'input_noise', 'ID',\n",
       "       'level', 'trial', 'distant_fixation', 'cluster', 'disargeement'],\n",
       "      dtype='object')"
      ]
     },
     "execution_count": 54,
     "metadata": {},
     "output_type": "execute_result"
    }
   ],
   "source": [
    "df.columns"
   ]
  },
  {
   "cell_type": "markdown",
   "id": "fa05b0d4",
   "metadata": {},
   "source": [
    "# Principal Component Analysis (PCA)"
   ]
  },
  {
   "cell_type": "code",
   "execution_count": 102,
   "id": "f6374348",
   "metadata": {},
   "outputs": [],
   "source": [
    "# features of interest\n",
    "features = [\"distance_to_spaceship\", \"fixation_duration\", \"Dist_to_closest_obstacles\"]\n",
    "\n",
    "# seperating features\n",
    "x = df.loc[:, features].values\n",
    "\n",
    "# define target\n",
    "y = df.loc[:,['distant_fixation']].values\n",
    "\n",
    "# standardize features\n",
    "x = StandardScaler().fit_transform(x)"
   ]
  },
  {
   "cell_type": "code",
   "execution_count": 103,
   "id": "895e795d",
   "metadata": {},
   "outputs": [],
   "source": [
    "pca = PCA(n_components=3)\n",
    "\n",
    "principalComponents = pca.fit_transform(x)\n",
    "\n",
    "principalDf = pd.DataFrame(data = principalComponents\n",
    "             , columns = ['distance_to_spaceship', 'fixation_duration', 'Dist_to_closest_obstacles'])"
   ]
  },
  {
   "cell_type": "code",
   "execution_count": 104,
   "id": "d089da05",
   "metadata": {},
   "outputs": [],
   "source": [
    "finalDf = pd.concat([principalDf, df[['distant_fixation']]], axis = 1)"
   ]
  },
  {
   "cell_type": "code",
   "execution_count": 105,
   "id": "0c28e129",
   "metadata": {},
   "outputs": [
    {
     "data": {
      "image/png": "[encoded data removed]",
      "text/plain": [
       "<Figure size 800x800 with 1 Axes>"
      ]
     },
     "metadata": {},
     "output_type": "display_data"
    }
   ],
   "source": [
    "fig = plt.figure(figsize = (8,8))\n",
    "ax = fig.add_subplot(1,1,1) \n",
    "ax.set_xlabel('distance_to_spaceship', fontsize = 15)\n",
    "ax.set_ylabel('fixation_duration', fontsize = 15)\n",
    "ax.set_title('2 component PCA', fontsize = 20)\n",
    "\n",
    "targets = [0, 1]\n",
    "colors = ['r', 'b']\n",
    "for target, color in zip(targets,colors):\n",
    "    indicesToKeep = finalDf['distant_fixation'] == target\n",
    "    ax.scatter(finalDf.loc[indicesToKeep, 'distance_to_spaceship']\n",
    "               , finalDf.loc[indicesToKeep, 'fixation_duration']\n",
    "               , c = color\n",
    "               , s = 50)\n",
    "ax.legend(targets)\n",
    "ax.grid()"
   ]
  },
  {
   "cell_type": "code",
   "execution_count": 106,
   "id": "8477f945",
   "metadata": {},
   "outputs": [
    {
     "data": {
      "text/plain": [
       "array([0.39923173, 0.3317225 , 0.26904577])"
      ]
     },
     "execution_count": 106,
     "metadata": {},
     "output_type": "execute_result"
    }
   ],
   "source": [
    "pca.explained_variance_ratio_"
   ]
  },
  {
   "cell_type": "markdown",
   "id": "53f540b5",
   "metadata": {},
   "source": [
    "# Quantile-Based Clustering"
   ]
  },
  {
   "cell_type": "markdown",
   "id": "da9f2a1e",
   "metadata": {},
   "source": [
    "### Variable-wise theta_j and Scaled variables through lambda_j"
   ]
  },
  {
   "cell_type": "markdown",
   "id": "c2f46a42",
   "metadata": {},
   "source": [
    "Here, we will assess the 'elbow', as well as the silhouette score"
   ]
  },
  {
   "cell_type": "code",
   "execution_count": 67,
   "id": "4a163f58",
   "metadata": {},
   "outputs": [
    {
     "data": {
      "text/plain": [
       "['__builtins__',\n",
       " '__cached__',\n",
       " '__doc__',\n",
       " '__file__',\n",
       " '__loader__',\n",
       " '__name__',\n",
       " '__package__',\n",
       " '__spec__',\n",
       " 'alg_CS',\n",
       " 'alg_CU',\n",
       " 'alg_VS',\n",
       " 'alg_VU',\n",
       " 'fun_CS',\n",
       " 'fun_CU',\n",
       " 'fun_VS',\n",
       " 'fun_VU',\n",
       " 'math',\n",
       " 'minimize',\n",
       " 'np',\n",
       " 'pd']"
      ]
     },
     "execution_count": 67,
     "metadata": {},
     "output_type": "execute_result"
    }
   ],
   "source": [
    "dir(clu.myfunctions)"
   ]
  },
  {
   "cell_type": "code",
   "execution_count": 44,
   "id": "3eec2222",
   "metadata": {
    "scrolled": false
   },
   "outputs": [
    {
     "data": {
      "image/png": "[encoded data removed]",
      "text/plain": [
       "<Figure size 800x500 with 1 Axes>"
      ]
     },
     "metadata": {},
     "output_type": "display_data"
    },
    {
     "name": "stdout",
     "output_type": "stream",
     "text": [
      "Optimal number of clusters: 2\n"
     ]
    }
   ],
   "source": [
    "from sklearn.cluster import KMeans\n",
    "from sklearn.metrics import silhouette_score\n",
    "\n",
    "features = [\"distance_to_spaceship\", \"fixation_duration\", \"Dist_to_closest_obstacles\"]\n",
    "X = df[features]\n",
    "\n",
    "# normalize data\n",
    "scaler = StandardScaler()\n",
    "X_scaled = scaler.fit_transform(X)\n",
    "\n",
    "# silhouette score\n",
    "silhouette_scores = []\n",
    "K_range = range(2, 11)  # 2-10 clusters\n",
    "\n",
    "for k in K_range:\n",
    "    #kmeans = KMeans(n_clusters=k, random_state=42)\n",
    "    #labels = kmeans.fit_predict(X_scaled)\n",
    "    cluster = myfunctions.alg_VS(X, k=k, B=50)\n",
    "    labels = cluster['cl']\n",
    "    \n",
    "    score = silhouette_score(X_scaled, labels)\n",
    "    silhouette_scores.append(score)\n",
    "\n",
    "# plotting\n",
    "plt.figure(figsize=(8, 5))\n",
    "plt.plot(K_range, silhouette_scores, marker='o')\n",
    "plt.title(\"Silhouette Score by Number of Clusters\")\n",
    "plt.xlabel(\"Number of Clusters (k)\")\n",
    "plt.ylabel(\"Silhouette Score\")\n",
    "plt.grid(True)\n",
    "plt.show()\n",
    "\n",
    "optimal_k = K_range[silhouette_scores.index(max(silhouette_scores))]\n",
    "print(f\"Optimal number of clusters: {optimal_k}\")\n"
   ]
  },
  {
   "cell_type": "code",
   "execution_count": 72,
   "id": "cede678e",
   "metadata": {},
   "outputs": [],
   "source": [
    "# assinging Ncluster to data points and save\n",
    "features = [\"distance_to_spaceship\", \"fixation_duration\", \"Dist_to_closest_obstacles\"]\n",
    "X = df[features]\n",
    "\n",
    "cluster = myfunctions.alg_VS(X, k=2, B=50)\n",
    "labels = cluster['cl']\n",
    "\n",
    "df['N_qclu'] = labels"
   ]
  },
  {
   "cell_type": "code",
   "execution_count": null,
   "id": "405f4e4b",
   "metadata": {},
   "outputs": [],
   "source": [
    "#df.to_csv('data/Experiment3_AllFixations_clustered.csv', index=False)"
   ]
  },
  {
   "cell_type": "markdown",
   "id": "11ce6375",
   "metadata": {},
   "source": [
    "# Clustered Data Analysis "
   ]
  },
  {
   "cell_type": "code",
   "execution_count": 94,
   "id": "54c52040",
   "metadata": {},
   "outputs": [
    {
     "name": "stdout",
     "output_type": "stream",
     "text": [
      "       ID trial  level  input_noise  n_fixations_cluster_0  \\\n",
      "0  AU25IL    15    1.0          0.0                     23   \n",
      "1  AU25IL    31    1.0          0.5                     41   \n",
      "2  AU25IL    44    1.0          1.0                     76   \n",
      "3  AU25IL    34    1.0          1.5                     51   \n",
      "4  AU25IL    27    1.0          2.0                      6   \n",
      "\n",
      "   n_fixations_cluster_1  \n",
      "0                     12  \n",
      "1                     21  \n",
      "2                     23  \n",
      "3                     28  \n",
      "4                      4  \n"
     ]
    }
   ],
   "source": [
    "# trial-level info (one row per ID/trial)\n",
    "trial_info = (\n",
    "    df[['ID', 'trial', 'level', 'input_noise']]\n",
    "    .drop_duplicates()\n",
    ")\n",
    "\n",
    "# counting fixations per cluster per trial\n",
    "fixation_counts = (\n",
    "    df.groupby(['ID', 'trial', 'N_qclu'])\n",
    "      .size()\n",
    "      .reset_index(name='n_fixations')\n",
    ")\n",
    "\n",
    "# pivot\n",
    "fixation_counts_pivot = fixation_counts.pivot(\n",
    "    index=['ID', 'trial'],\n",
    "    columns='N_qclu',\n",
    "    values='n_fixations'\n",
    ")\n",
    "\n",
    "\n",
    "fixation_counts_pivot.columns = [f'n_fixations_cluster_{col}' for col in fixation_counts_pivot.columns]\n",
    "fixation_counts_pivot = fixation_counts_pivot.reset_index()\n",
    "\n",
    "# merge with trial-level info\n",
    "merged = pd.merge(trial_info, fixation_counts_pivot, on=['ID', 'trial'])\n",
    "\n",
    "merged = merged.fillna(0).astype({'n_fixations_cluster_0': 'int', 'n_fixations_cluster_1': 'int'})\n",
    "print(merged.head())\n"
   ]
  },
  {
   "cell_type": "markdown",
   "id": "9160a538",
   "metadata": {},
   "source": [
    "### Visual inspection"
   ]
  },
  {
   "cell_type": "code",
   "execution_count": 95,
   "id": "05000bc9",
   "metadata": {},
   "outputs": [
    {
     "data": {
      "image/png": "[encoded data removed]",
      "text/plain": [
       "<Figure size 640x480 with 1 Axes>"
      ]
     },
     "metadata": {},
     "output_type": "display_data"
    }
   ],
   "source": [
    "# visual inspection\n",
    "sns.boxplot(data=merged, x='input_noise', y='n_fixations_cluster_0')\n",
    "plt.title(\"Fixations per Input Noise Level\")\n",
    "plt.show()"
   ]
  },
  {
   "cell_type": "code",
   "execution_count": 96,
   "id": "15507d91",
   "metadata": {},
   "outputs": [
    {
     "data": {
      "image/png": "[encoded data removed]",
      "text/plain": [
       "<Figure size 640x480 with 1 Axes>"
      ]
     },
     "metadata": {},
     "output_type": "display_data"
    }
   ],
   "source": [
    "sns.boxplot(data=merged, x='input_noise', y='n_fixations_cluster_1')\n",
    "plt.title(\"Fixations per Input Noise Level\")\n",
    "plt.show()"
   ]
  },
  {
   "cell_type": "markdown",
   "id": "2a176eb4",
   "metadata": {},
   "source": [
    "## Linear mixed effects modeling"
   ]
  },
  {
   "cell_type": "markdown",
   "id": "cec0e431",
   "metadata": {},
   "source": [
    "### N fixations"
   ]
  },
  {
   "cell_type": "code",
   "execution_count": 98,
   "id": "1a435533",
   "metadata": {},
   "outputs": [
    {
     "data": {
      "text/html": [
       "<table class=\"simpletable\">\n",
       "<tr>\n",
       "       <td>Model:</td>       <td>MixedLM</td> <td>Dependent Variable:</td> <td>n_fixations_cluster_0</td>\n",
       "</tr>\n",
       "<tr>\n",
       "  <td>No. Observations:</td>   <td>254</td>         <td>Method:</td>                <td>ML</td>          \n",
       "</tr>\n",
       "<tr>\n",
       "     <td>No. Groups:</td>       <td>6</td>          <td>Scale:</td>              <td>1517.4541</td>      \n",
       "</tr>\n",
       "<tr>\n",
       "  <td>Min. group size:</td>    <td>35</td>      <td>Log-Likelihood:</td>        <td>-1300.9445</td>      \n",
       "</tr>\n",
       "<tr>\n",
       "  <td>Max. group size:</td>    <td>48</td>        <td>Converged:</td>               <td>Yes</td>         \n",
       "</tr>\n",
       "<tr>\n",
       "  <td>Mean group size:</td>   <td>42.3</td>            <td></td>                     <td></td>           \n",
       "</tr>\n",
       "</table>\n",
       "<table class=\"simpletable\">\n",
       "<tr>\n",
       "       <td></td>         <th>Coef.</th>  <th>Std.Err.</th>    <th>z</th>   <th>P>|z|</th> <th>[0.025</th>  <th>0.975]</th>\n",
       "</tr>\n",
       "<tr>\n",
       "  <th>Intercept</th>    <td>58.830</td>   <td>14.167</td>   <td>4.153</td> <td>0.000</td> <td>31.064</td>  <td>86.596</td>\n",
       "</tr>\n",
       "<tr>\n",
       "  <th>input_noise</th>  <td>-8.686</td>    <td>3.403</td>  <td>-2.553</td> <td>0.011</td> <td>-15.355</td> <td>-2.017</td>\n",
       "</tr>\n",
       "<tr>\n",
       "  <th>Group Var</th>   <td>1076.402</td>  <td>16.724</td>     <td></td>      <td></td>       <td></td>        <td></td>   \n",
       "</tr>\n",
       "</table><br/>\n"
      ],
      "text/latex": [
       "\\begin{table}\n",
       "\\caption{Mixed Linear Model Regression Results}\n",
       "\\label{}\n",
       "\\begin{center}\n",
       "\\begin{tabular}{llll}\n",
       "\\hline\n",
       "Model:            & MixedLM & Dependent Variable: & n\\_fixations\\_cluster\\_0  \\\\\n",
       "No. Observations: & 254     & Method:             & ML                        \\\\\n",
       "No. Groups:       & 6       & Scale:              & 1517.4541                 \\\\\n",
       "Min. group size:  & 35      & Log-Likelihood:     & -1300.9445                \\\\\n",
       "Max. group size:  & 48      & Converged:          & Yes                       \\\\\n",
       "Mean group size:  & 42.3    &                     &                           \\\\\n",
       "\\hline\n",
       "\\end{tabular}\n",
       "\\end{center}\n",
       "\n",
       "\\begin{center}\n",
       "\\begin{tabular}{lrrrrrr}\n",
       "\\hline\n",
       "             &    Coef. & Std.Err. &      z & P$> |$z$|$ &  [0.025 & 0.975]  \\\\\n",
       "\\hline\n",
       "Intercept    &   58.830 &   14.167 &  4.153 &       0.000 &  31.064 & 86.596  \\\\\n",
       "input\\_noise &   -8.686 &    3.403 & -2.553 &       0.011 & -15.355 & -2.017  \\\\\n",
       "Group Var    & 1076.402 &   16.724 &        &             &         &         \\\\\n",
       "\\hline\n",
       "\\end{tabular}\n",
       "\\end{center}\n",
       "\\end{table}\n",
       "\\bigskip\n"
      ],
      "text/plain": [
       "<class 'statsmodels.iolib.summary2.Summary'>\n",
       "\"\"\"\n",
       "               Mixed Linear Model Regression Results\n",
       "===================================================================\n",
       "Model:            MixedLM Dependent Variable: n_fixations_cluster_0\n",
       "No. Observations: 254     Method:             ML                   \n",
       "No. Groups:       6       Scale:              1517.4541            \n",
       "Min. group size:  35      Log-Likelihood:     -1300.9445           \n",
       "Max. group size:  48      Converged:          Yes                  \n",
       "Mean group size:  42.3                                             \n",
       "---------------------------------------------------------------------\n",
       "               Coef.     Std.Err.     z      P>|z|    [0.025   0.975]\n",
       "---------------------------------------------------------------------\n",
       "Intercept       58.830     14.167    4.153   0.000    31.064   86.596\n",
       "input_noise     -8.686      3.403   -2.553   0.011   -15.355   -2.017\n",
       "Group Var     1076.402     16.724                                    \n",
       "===================================================================\n",
       "\n",
       "\"\"\""
      ]
     },
     "execution_count": 98,
     "metadata": {},
     "output_type": "execute_result"
    }
   ],
   "source": [
    "model = smf.mixedlm(\n",
    "    \"n_fixations_cluster_0 ~ input_noise\",\n",
    "    data=merged,\n",
    "    groups=merged[\"ID\"]\n",
    ")\n",
    "model_fit = model.fit(reml=False)\n",
    "\n",
    "model_fit.summary()"
   ]
  },
  {
   "cell_type": "code",
   "execution_count": 101,
   "id": "4d3e323b",
   "metadata": {},
   "outputs": [
    {
     "data": {
      "text/html": [
       "<table class=\"simpletable\">\n",
       "<tr>\n",
       "       <td>Model:</td>       <td>MixedLM</td> <td>Dependent Variable:</td> <td>n_fixations_cluster_1</td>\n",
       "</tr>\n",
       "<tr>\n",
       "  <td>No. Observations:</td>   <td>254</td>         <td>Method:</td>                <td>ML</td>          \n",
       "</tr>\n",
       "<tr>\n",
       "     <td>No. Groups:</td>       <td>6</td>          <td>Scale:</td>              <td>2813.5087</td>      \n",
       "</tr>\n",
       "<tr>\n",
       "  <td>Min. group size:</td>    <td>35</td>      <td>Log-Likelihood:</td>        <td>-1379.3744</td>      \n",
       "</tr>\n",
       "<tr>\n",
       "  <td>Max. group size:</td>    <td>48</td>        <td>Converged:</td>               <td>Yes</td>         \n",
       "</tr>\n",
       "<tr>\n",
       "  <td>Mean group size:</td>   <td>42.3</td>            <td></td>                     <td></td>           \n",
       "</tr>\n",
       "</table>\n",
       "<table class=\"simpletable\">\n",
       "<tr>\n",
       "       <td></td>         <th>Coef.</th>  <th>Std.Err.</th>    <th>z</th>   <th>P>|z|</th> <th>[0.025</th>  <th>0.975]</th> \n",
       "</tr>\n",
       "<tr>\n",
       "  <th>Intercept</th>    <td>84.202</td>   <td>19.350</td>   <td>4.351</td> <td>0.000</td> <td>46.276</td>  <td>122.128</td>\n",
       "</tr>\n",
       "<tr>\n",
       "  <th>input_noise</th>  <td>-20.360</td>   <td>4.633</td>  <td>-4.394</td> <td>0.000</td> <td>-29.441</td> <td>-11.279</td>\n",
       "</tr>\n",
       "<tr>\n",
       "  <th>Group Var</th>   <td>2009.746</td>  <td>22.886</td>     <td></td>      <td></td>       <td></td>        <td></td>    \n",
       "</tr>\n",
       "</table><br/>\n"
      ],
      "text/latex": [
       "\\begin{table}\n",
       "\\caption{Mixed Linear Model Regression Results}\n",
       "\\label{}\n",
       "\\begin{center}\n",
       "\\begin{tabular}{llll}\n",
       "\\hline\n",
       "Model:            & MixedLM & Dependent Variable: & n\\_fixations\\_cluster\\_1  \\\\\n",
       "No. Observations: & 254     & Method:             & ML                        \\\\\n",
       "No. Groups:       & 6       & Scale:              & 2813.5087                 \\\\\n",
       "Min. group size:  & 35      & Log-Likelihood:     & -1379.3744                \\\\\n",
       "Max. group size:  & 48      & Converged:          & Yes                       \\\\\n",
       "Mean group size:  & 42.3    &                     &                           \\\\\n",
       "\\hline\n",
       "\\end{tabular}\n",
       "\\end{center}\n",
       "\n",
       "\\begin{center}\n",
       "\\begin{tabular}{lrrrrrr}\n",
       "\\hline\n",
       "             &    Coef. & Std.Err. &      z & P$> |$z$|$ &  [0.025 &  0.975]  \\\\\n",
       "\\hline\n",
       "Intercept    &   84.202 &   19.350 &  4.351 &       0.000 &  46.276 & 122.128  \\\\\n",
       "input\\_noise &  -20.360 &    4.633 & -4.394 &       0.000 & -29.441 & -11.279  \\\\\n",
       "Group Var    & 2009.746 &   22.886 &        &             &         &          \\\\\n",
       "\\hline\n",
       "\\end{tabular}\n",
       "\\end{center}\n",
       "\\end{table}\n",
       "\\bigskip\n"
      ],
      "text/plain": [
       "<class 'statsmodels.iolib.summary2.Summary'>\n",
       "\"\"\"\n",
       "               Mixed Linear Model Regression Results\n",
       "===================================================================\n",
       "Model:            MixedLM Dependent Variable: n_fixations_cluster_1\n",
       "No. Observations: 254     Method:             ML                   \n",
       "No. Groups:       6       Scale:              2813.5087            \n",
       "Min. group size:  35      Log-Likelihood:     -1379.3744           \n",
       "Max. group size:  48      Converged:          Yes                  \n",
       "Mean group size:  42.3                                             \n",
       "--------------------------------------------------------------------\n",
       "                  Coef.    Std.Err.    z     P>|z|   [0.025   0.975]\n",
       "--------------------------------------------------------------------\n",
       "Intercept          84.202    19.350   4.351  0.000   46.276  122.128\n",
       "input_noise       -20.360     4.633  -4.394  0.000  -29.441  -11.279\n",
       "Group Var        2009.746    22.886                                 \n",
       "===================================================================\n",
       "\n",
       "\"\"\""
      ]
     },
     "execution_count": 101,
     "metadata": {},
     "output_type": "execute_result"
    }
   ],
   "source": [
    "model = smf.mixedlm(\n",
    "    \"n_fixations_cluster_1 ~ input_noise\",\n",
    "    data=merged,\n",
    "    groups=merged[\"ID\"]\n",
    ")\n",
    "model_fit = model.fit(reml=False)\n",
    "\n",
    "model_fit.summary()"
   ]
  },
  {
   "cell_type": "markdown",
   "id": "f78d96fe",
   "metadata": {},
   "source": [
    "## Analyze fixation metrics"
   ]
  },
  {
   "cell_type": "code",
   "execution_count": 107,
   "id": "1b11de2a",
   "metadata": {},
   "outputs": [
    {
     "data": {
      "text/plain": [
       "Index(['distance_to_spaceship', 'fixation_duration',\n",
       "       'Dist_to_closest_obstacles', 'N_visible_obstacles', 'input_noise', 'ID',\n",
       "       'level', 'trial', 'distant_fixation', 'cluster', 'disargeement',\n",
       "       'N_qclu'],\n",
       "      dtype='object')"
      ]
     },
     "execution_count": 107,
     "metadata": {},
     "output_type": "execute_result"
    }
   ],
   "source": [
    "df.columns"
   ]
  },
  {
   "cell_type": "code",
   "execution_count": 110,
   "id": "2de559f8",
   "metadata": {},
   "outputs": [],
   "source": [
    "type_0 = df[df.N_qclu == 0]\n",
    "type_1 = df[df.N_qclu == 1]"
   ]
  },
  {
   "cell_type": "markdown",
   "id": "25223b63",
   "metadata": {},
   "source": [
    "### Distance to Spaceship"
   ]
  },
  {
   "cell_type": "code",
   "execution_count": 148,
   "id": "dc08d659",
   "metadata": {},
   "outputs": [
    {
     "data": {
      "text/plain": [
       "0.5391497519166921"
      ]
     },
     "execution_count": 148,
     "metadata": {},
     "output_type": "execute_result"
    }
   ],
   "source": [
    "_, lmbda = boxcox(type_0.distance_to_spaceship)\n",
    "lmbda"
   ]
  },
  {
   "cell_type": "code",
   "execution_count": 149,
   "id": "e6329dc9",
   "metadata": {},
   "outputs": [
    {
     "name": "stderr",
     "output_type": "stream",
     "text": [
      "/var/folders/z1/crk0j_p52yq850yynjpq93wm0000gn/T/ipykernel_6863/1701825223.py:1: SettingWithCopyWarning: \n",
      "A value is trying to be set on a copy of a slice from a DataFrame.\n",
      "Try using .loc[row_indexer,col_indexer] = value instead\n",
      "\n",
      "See the caveats in the documentation: https://pandas.pydata.org/pandas-docs/stable/user_guide/indexing.html#returning-a-view-versus-a-copy\n",
      "  type_0['distance_to_spaceship_t'] = np.sqrt(type_0.distance_to_spaceship)\n"
     ]
    }
   ],
   "source": [
    "type_0['distance_to_spaceship_t'] = np.sqrt(type_0.distance_to_spaceship)"
   ]
  },
  {
   "cell_type": "code",
   "execution_count": 150,
   "id": "1ad230ad",
   "metadata": {},
   "outputs": [
    {
     "data": {
      "text/html": [
       "<table class=\"simpletable\">\n",
       "<tr>\n",
       "       <td>Model:</td>       <td>MixedLM</td> <td>Dependent Variable:</td> <td>distance_to_spaceship_t</td>\n",
       "</tr>\n",
       "<tr>\n",
       "  <td>No. Observations:</td>  <td>12499</td>        <td>Method:</td>                 <td>ML</td>           \n",
       "</tr>\n",
       "<tr>\n",
       "     <td>No. Groups:</td>       <td>6</td>          <td>Scale:</td>                <td>0.2102</td>         \n",
       "</tr>\n",
       "<tr>\n",
       "  <td>Min. group size:</td>    <td>196</td>     <td>Log-Likelihood:</td>         <td>-8006.3926</td>       \n",
       "</tr>\n",
       "<tr>\n",
       "  <td>Max. group size:</td>   <td>4600</td>       <td>Converged:</td>                <td>Yes</td>          \n",
       "</tr>\n",
       "<tr>\n",
       "  <td>Mean group size:</td>  <td>2083.2</td>           <td></td>                      <td></td>            \n",
       "</tr>\n",
       "</table>\n",
       "<table class=\"simpletable\">\n",
       "<tr>\n",
       "       <td></td>        <th>Coef.</th> <th>Std.Err.</th>    <th>z</th>   <th>P>|z|</th> <th>[0.025</th> <th>0.975]</th>\n",
       "</tr>\n",
       "<tr>\n",
       "  <th>Intercept</th>    <td>1.560</td>   <td>0.086</td>  <td>18.193</td> <td>0.000</td>  <td>1.392</td>  <td>1.728</td>\n",
       "</tr>\n",
       "<tr>\n",
       "  <th>input_noise</th> <td>-0.022</td>   <td>0.006</td>  <td>-3.824</td> <td>0.000</td> <td>-0.033</td> <td>-0.011</td>\n",
       "</tr>\n",
       "<tr>\n",
       "  <th>Group Var</th>    <td>0.044</td>   <td>0.056</td>     <td></td>      <td></td>       <td></td>       <td></td>   \n",
       "</tr>\n",
       "</table><br/>\n"
      ],
      "text/latex": [
       "\\begin{table}\n",
       "\\caption{Mixed Linear Model Regression Results}\n",
       "\\label{}\n",
       "\\begin{center}\n",
       "\\begin{tabular}{llll}\n",
       "\\hline\n",
       "Model:            & MixedLM & Dependent Variable: & distance\\_to\\_spaceship\\_t  \\\\\n",
       "No. Observations: & 12499   & Method:             & ML                          \\\\\n",
       "No. Groups:       & 6       & Scale:              & 0.2102                      \\\\\n",
       "Min. group size:  & 196     & Log-Likelihood:     & -8006.3926                  \\\\\n",
       "Max. group size:  & 4600    & Converged:          & Yes                         \\\\\n",
       "Mean group size:  & 2083.2  &                     &                             \\\\\n",
       "\\hline\n",
       "\\end{tabular}\n",
       "\\end{center}\n",
       "\n",
       "\\begin{center}\n",
       "\\begin{tabular}{lrrrrrr}\n",
       "\\hline\n",
       "             &  Coef. & Std.Err. &      z & P$> |$z$|$ & [0.025 & 0.975]  \\\\\n",
       "\\hline\n",
       "Intercept    &  1.560 &    0.086 & 18.193 &       0.000 &  1.392 &  1.728  \\\\\n",
       "input\\_noise & -0.022 &    0.006 & -3.824 &       0.000 & -0.033 & -0.011  \\\\\n",
       "Group Var    &  0.044 &    0.056 &        &             &        &         \\\\\n",
       "\\hline\n",
       "\\end{tabular}\n",
       "\\end{center}\n",
       "\\end{table}\n",
       "\\bigskip\n"
      ],
      "text/plain": [
       "<class 'statsmodels.iolib.summary2.Summary'>\n",
       "\"\"\"\n",
       "                Mixed Linear Model Regression Results\n",
       "=====================================================================\n",
       "Model:            MixedLM Dependent Variable: distance_to_spaceship_t\n",
       "No. Observations: 12499   Method:             ML                     \n",
       "No. Groups:       6       Scale:              0.2102                 \n",
       "Min. group size:  196     Log-Likelihood:     -8006.3926             \n",
       "Max. group size:  4600    Converged:          Yes                    \n",
       "Mean group size:  2083.2                                             \n",
       "------------------------------------------------------------------------\n",
       "               Coef.     Std.Err.      z       P>|z|    [0.025    0.975]\n",
       "------------------------------------------------------------------------\n",
       "Intercept       1.560       0.086    18.193    0.000     1.392     1.728\n",
       "input_noise    -0.022       0.006    -3.824    0.000    -0.033    -0.011\n",
       "Group Var       0.044       0.056                                       \n",
       "=====================================================================\n",
       "\n",
       "\"\"\""
      ]
     },
     "execution_count": 150,
     "metadata": {},
     "output_type": "execute_result"
    }
   ],
   "source": [
    "model = smf.mixedlm(\n",
    "    \"distance_to_spaceship_t ~ input_noise\",\n",
    "    data=type_0,\n",
    "    groups=type_0[\"ID\"]\n",
    ")\n",
    "model_fit = model.fit(reml=False)\n",
    "\n",
    "model_fit.summary()"
   ]
  },
  {
   "cell_type": "code",
   "execution_count": 151,
   "id": "cbcc04e9",
   "metadata": {},
   "outputs": [
    {
     "data": {
      "text/plain": [
       "-0.8466081893916712"
      ]
     },
     "execution_count": 151,
     "metadata": {},
     "output_type": "execute_result"
    }
   ],
   "source": [
    "_, lmbda = boxcox(type_1.distance_to_spaceship)\n",
    "lmbda"
   ]
  },
  {
   "cell_type": "code",
   "execution_count": 152,
   "id": "9fcb0759",
   "metadata": {},
   "outputs": [
    {
     "name": "stderr",
     "output_type": "stream",
     "text": [
      "/var/folders/z1/crk0j_p52yq850yynjpq93wm0000gn/T/ipykernel_6863/1722555321.py:1: SettingWithCopyWarning: \n",
      "A value is trying to be set on a copy of a slice from a DataFrame.\n",
      "Try using .loc[row_indexer,col_indexer] = value instead\n",
      "\n",
      "See the caveats in the documentation: https://pandas.pydata.org/pandas-docs/stable/user_guide/indexing.html#returning-a-view-versus-a-copy\n",
      "  type_1['distance_to_spaceship_t'] = 1/type_1.distance_to_spaceship\n"
     ]
    }
   ],
   "source": [
    "type_1['distance_to_spaceship_t'] = 1/type_1.distance_to_spaceship"
   ]
  },
  {
   "cell_type": "code",
   "execution_count": 153,
   "id": "4df6792d",
   "metadata": {
    "scrolled": false
   },
   "outputs": [
    {
     "name": "stderr",
     "output_type": "stream",
     "text": [
      "/Users/heinrich/anaconda3/envs/datascience/lib/python3.9/site-packages/statsmodels/regression/mixed_linear_model.py:2238: ConvergenceWarning: The MLE may be on the boundary of the parameter space.\n",
      "  warnings.warn(msg, ConvergenceWarning)\n"
     ]
    },
    {
     "data": {
      "text/html": [
       "<table class=\"simpletable\">\n",
       "<tr>\n",
       "       <td>Model:</td>       <td>MixedLM</td> <td>Dependent Variable:</td> <td>distance_to_spaceship_t</td>\n",
       "</tr>\n",
       "<tr>\n",
       "  <td>No. Observations:</td>  <td>14914</td>        <td>Method:</td>                 <td>ML</td>           \n",
       "</tr>\n",
       "<tr>\n",
       "     <td>No. Groups:</td>       <td>6</td>          <td>Scale:</td>                <td>0.0009</td>         \n",
       "</tr>\n",
       "<tr>\n",
       "  <td>Min. group size:</td>    <td>900</td>     <td>Log-Likelihood:</td>         <td>31062.9812</td>       \n",
       "</tr>\n",
       "<tr>\n",
       "  <td>Max. group size:</td>   <td>5808</td>       <td>Converged:</td>                <td>Yes</td>          \n",
       "</tr>\n",
       "<tr>\n",
       "  <td>Mean group size:</td>  <td>2485.7</td>           <td></td>                      <td></td>            \n",
       "</tr>\n",
       "</table>\n",
       "<table class=\"simpletable\">\n",
       "<tr>\n",
       "       <td></td>        <th>Coef.</th> <th>Std.Err.</th>    <th>z</th>   <th>P>|z|</th> <th>[0.025</th> <th>0.975]</th>\n",
       "</tr>\n",
       "<tr>\n",
       "  <th>Intercept</th>    <td>0.131</td>   <td>0.003</td>  <td>42.863</td> <td>0.000</td>  <td>0.125</td>  <td>0.137</td>\n",
       "</tr>\n",
       "<tr>\n",
       "  <th>input_noise</th> <td>-0.000</td>   <td>0.000</td>  <td>-0.652</td> <td>0.515</td> <td>-0.001</td>  <td>0.000</td>\n",
       "</tr>\n",
       "<tr>\n",
       "  <th>Group Var</th>    <td>0.000</td>   <td>0.001</td>     <td></td>      <td></td>       <td></td>       <td></td>   \n",
       "</tr>\n",
       "</table><br/>\n"
      ],
      "text/latex": [
       "\\begin{table}\n",
       "\\caption{Mixed Linear Model Regression Results}\n",
       "\\label{}\n",
       "\\begin{center}\n",
       "\\begin{tabular}{llll}\n",
       "\\hline\n",
       "Model:            & MixedLM & Dependent Variable: & distance\\_to\\_spaceship\\_t  \\\\\n",
       "No. Observations: & 14914   & Method:             & ML                          \\\\\n",
       "No. Groups:       & 6       & Scale:              & 0.0009                      \\\\\n",
       "Min. group size:  & 900     & Log-Likelihood:     & 31062.9812                  \\\\\n",
       "Max. group size:  & 5808    & Converged:          & Yes                         \\\\\n",
       "Mean group size:  & 2485.7  &                     &                             \\\\\n",
       "\\hline\n",
       "\\end{tabular}\n",
       "\\end{center}\n",
       "\n",
       "\\begin{center}\n",
       "\\begin{tabular}{lrrrrrr}\n",
       "\\hline\n",
       "             &  Coef. & Std.Err. &      z & P$> |$z$|$ & [0.025 & 0.975]  \\\\\n",
       "\\hline\n",
       "Intercept    &  0.131 &    0.003 & 42.863 &       0.000 &  0.125 &  0.137  \\\\\n",
       "input\\_noise & -0.000 &    0.000 & -0.652 &       0.515 & -0.001 &  0.000  \\\\\n",
       "Group Var    &  0.000 &    0.001 &        &             &        &         \\\\\n",
       "\\hline\n",
       "\\end{tabular}\n",
       "\\end{center}\n",
       "\\end{table}\n",
       "\\bigskip\n"
      ],
      "text/plain": [
       "<class 'statsmodels.iolib.summary2.Summary'>\n",
       "\"\"\"\n",
       "                Mixed Linear Model Regression Results\n",
       "=====================================================================\n",
       "Model:            MixedLM Dependent Variable: distance_to_spaceship_t\n",
       "No. Observations: 14914   Method:             ML                     \n",
       "No. Groups:       6       Scale:              0.0009                 \n",
       "Min. group size:  900     Log-Likelihood:     31062.9812             \n",
       "Max. group size:  5808    Converged:          Yes                    \n",
       "Mean group size:  2485.7                                             \n",
       "------------------------------------------------------------------------\n",
       "               Coef.     Std.Err.      z       P>|z|    [0.025    0.975]\n",
       "------------------------------------------------------------------------\n",
       "Intercept       0.131       0.003    42.863    0.000     0.125     0.137\n",
       "input_noise    -0.000       0.000    -0.652    0.515    -0.001     0.000\n",
       "Group Var       0.000       0.001                                       \n",
       "=====================================================================\n",
       "\n",
       "\"\"\""
      ]
     },
     "execution_count": 153,
     "metadata": {},
     "output_type": "execute_result"
    }
   ],
   "source": [
    "model = smf.mixedlm(\n",
    "    \"distance_to_spaceship_t ~ input_noise\",\n",
    "    data=type_1,\n",
    "    groups=type_1[\"ID\"]\n",
    ")\n",
    "model_fit = model.fit(reml=False)\n",
    "\n",
    "model_fit.summary()"
   ]
  },
  {
   "cell_type": "markdown",
   "id": "2d8f1a49",
   "metadata": {},
   "source": [
    "### Fixation duration"
   ]
  },
  {
   "cell_type": "code",
   "execution_count": 154,
   "id": "89d6cea8",
   "metadata": {},
   "outputs": [
    {
     "data": {
      "text/plain": [
       "0.09681068389376903"
      ]
     },
     "execution_count": 154,
     "metadata": {},
     "output_type": "execute_result"
    }
   ],
   "source": [
    "_, lmbda = boxcox(type_0.fixation_duration)\n",
    "lmbda"
   ]
  },
  {
   "cell_type": "code",
   "execution_count": 155,
   "id": "eb51a454",
   "metadata": {},
   "outputs": [
    {
     "name": "stderr",
     "output_type": "stream",
     "text": [
      "/var/folders/z1/crk0j_p52yq850yynjpq93wm0000gn/T/ipykernel_6863/331492430.py:1: SettingWithCopyWarning: \n",
      "A value is trying to be set on a copy of a slice from a DataFrame.\n",
      "Try using .loc[row_indexer,col_indexer] = value instead\n",
      "\n",
      "See the caveats in the documentation: https://pandas.pydata.org/pandas-docs/stable/user_guide/indexing.html#returning-a-view-versus-a-copy\n",
      "  type_0['fixation_duration_t'] = np.log(type_0.fixation_duration)\n"
     ]
    }
   ],
   "source": [
    "type_0['fixation_duration_t'] = np.log(type_0.fixation_duration)"
   ]
  },
  {
   "cell_type": "code",
   "execution_count": 156,
   "id": "b387fa34",
   "metadata": {},
   "outputs": [
    {
     "data": {
      "text/html": [
       "<table class=\"simpletable\">\n",
       "<tr>\n",
       "       <td>Model:</td>       <td>MixedLM</td> <td>Dependent Variable:</td> <td>fixation_duration_t</td>\n",
       "</tr>\n",
       "<tr>\n",
       "  <td>No. Observations:</td>  <td>12499</td>        <td>Method:</td>               <td>ML</td>         \n",
       "</tr>\n",
       "<tr>\n",
       "     <td>No. Groups:</td>       <td>6</td>          <td>Scale:</td>              <td>1.9890</td>       \n",
       "</tr>\n",
       "<tr>\n",
       "  <td>Min. group size:</td>    <td>196</td>     <td>Log-Likelihood:</td>       <td>-22054.8398</td>    \n",
       "</tr>\n",
       "<tr>\n",
       "  <td>Max. group size:</td>   <td>4600</td>       <td>Converged:</td>              <td>Yes</td>        \n",
       "</tr>\n",
       "<tr>\n",
       "  <td>Mean group size:</td>  <td>2083.2</td>           <td></td>                    <td></td>          \n",
       "</tr>\n",
       "</table>\n",
       "<table class=\"simpletable\">\n",
       "<tr>\n",
       "       <td></td>        <th>Coef.</th> <th>Std.Err.</th>    <th>z</th>   <th>P>|z|</th> <th>[0.025</th> <th>0.975]</th>\n",
       "</tr>\n",
       "<tr>\n",
       "  <th>Intercept</th>   <td>-2.070</td>   <td>0.604</td>  <td>-3.425</td> <td>0.001</td> <td>-3.255</td> <td>-0.885</td>\n",
       "</tr>\n",
       "<tr>\n",
       "  <th>input_noise</th> <td>-0.096</td>   <td>0.018</td>  <td>-5.380</td> <td>0.000</td> <td>-0.130</td> <td>-0.061</td>\n",
       "</tr>\n",
       "<tr>\n",
       "  <th>Group Var</th>    <td>2.187</td>   <td>0.889</td>     <td></td>      <td></td>       <td></td>       <td></td>   \n",
       "</tr>\n",
       "</table><br/>\n"
      ],
      "text/latex": [
       "\\begin{table}\n",
       "\\caption{Mixed Linear Model Regression Results}\n",
       "\\label{}\n",
       "\\begin{center}\n",
       "\\begin{tabular}{llll}\n",
       "\\hline\n",
       "Model:            & MixedLM & Dependent Variable: & fixation\\_duration\\_t  \\\\\n",
       "No. Observations: & 12499   & Method:             & ML                     \\\\\n",
       "No. Groups:       & 6       & Scale:              & 1.9890                 \\\\\n",
       "Min. group size:  & 196     & Log-Likelihood:     & -22054.8398            \\\\\n",
       "Max. group size:  & 4600    & Converged:          & Yes                    \\\\\n",
       "Mean group size:  & 2083.2  &                     &                        \\\\\n",
       "\\hline\n",
       "\\end{tabular}\n",
       "\\end{center}\n",
       "\n",
       "\\begin{center}\n",
       "\\begin{tabular}{lrrrrrr}\n",
       "\\hline\n",
       "             &  Coef. & Std.Err. &      z & P$> |$z$|$ & [0.025 & 0.975]  \\\\\n",
       "\\hline\n",
       "Intercept    & -2.070 &    0.604 & -3.425 &       0.001 & -3.255 & -0.885  \\\\\n",
       "input\\_noise & -0.096 &    0.018 & -5.380 &       0.000 & -0.130 & -0.061  \\\\\n",
       "Group Var    &  2.187 &    0.889 &        &             &        &         \\\\\n",
       "\\hline\n",
       "\\end{tabular}\n",
       "\\end{center}\n",
       "\\end{table}\n",
       "\\bigskip\n"
      ],
      "text/plain": [
       "<class 'statsmodels.iolib.summary2.Summary'>\n",
       "\"\"\"\n",
       "              Mixed Linear Model Regression Results\n",
       "=================================================================\n",
       "Model:            MixedLM Dependent Variable: fixation_duration_t\n",
       "No. Observations: 12499   Method:             ML                 \n",
       "No. Groups:       6       Scale:              1.9890             \n",
       "Min. group size:  196     Log-Likelihood:     -22054.8398        \n",
       "Max. group size:  4600    Converged:          Yes                \n",
       "Mean group size:  2083.2                                         \n",
       "-------------------------------------------------------------------\n",
       "               Coef.    Std.Err.     z      P>|z|   [0.025   0.975]\n",
       "-------------------------------------------------------------------\n",
       "Intercept      -2.070      0.604   -3.425   0.001   -3.255   -0.885\n",
       "input_noise    -0.096      0.018   -5.380   0.000   -0.130   -0.061\n",
       "Group Var       2.187      0.889                                   \n",
       "=================================================================\n",
       "\n",
       "\"\"\""
      ]
     },
     "execution_count": 156,
     "metadata": {},
     "output_type": "execute_result"
    }
   ],
   "source": [
    "model = smf.mixedlm(\n",
    "    \"fixation_duration_t ~ input_noise\",\n",
    "    data=type_0,\n",
    "    groups=type_0[\"ID\"]\n",
    ")\n",
    "model_fit = model.fit(reml=False)\n",
    "\n",
    "model_fit.summary()"
   ]
  },
  {
   "cell_type": "code",
   "execution_count": 157,
   "id": "b868dfb1",
   "metadata": {},
   "outputs": [
    {
     "data": {
      "text/plain": [
       "-0.01761581694031869"
      ]
     },
     "execution_count": 157,
     "metadata": {},
     "output_type": "execute_result"
    }
   ],
   "source": [
    "_, lmbda = boxcox(type_1.fixation_duration)\n",
    "lmbda"
   ]
  },
  {
   "cell_type": "code",
   "execution_count": 159,
   "id": "1085fd63",
   "metadata": {},
   "outputs": [
    {
     "name": "stderr",
     "output_type": "stream",
     "text": [
      "/var/folders/z1/crk0j_p52yq850yynjpq93wm0000gn/T/ipykernel_6863/3574830597.py:1: SettingWithCopyWarning: \n",
      "A value is trying to be set on a copy of a slice from a DataFrame.\n",
      "Try using .loc[row_indexer,col_indexer] = value instead\n",
      "\n",
      "See the caveats in the documentation: https://pandas.pydata.org/pandas-docs/stable/user_guide/indexing.html#returning-a-view-versus-a-copy\n",
      "  type_1['fixation_duration_t'] = np.log(type_1.fixation_duration)\n"
     ]
    }
   ],
   "source": [
    "type_1['fixation_duration_t'] = np.log(type_1.fixation_duration)"
   ]
  },
  {
   "cell_type": "code",
   "execution_count": 160,
   "id": "d81cfeea",
   "metadata": {},
   "outputs": [
    {
     "data": {
      "text/html": [
       "<table class=\"simpletable\">\n",
       "<tr>\n",
       "       <td>Model:</td>       <td>MixedLM</td> <td>Dependent Variable:</td> <td>fixation_duration_t</td>\n",
       "</tr>\n",
       "<tr>\n",
       "  <td>No. Observations:</td>  <td>14914</td>        <td>Method:</td>               <td>ML</td>         \n",
       "</tr>\n",
       "<tr>\n",
       "     <td>No. Groups:</td>       <td>6</td>          <td>Scale:</td>              <td>1.9619</td>       \n",
       "</tr>\n",
       "<tr>\n",
       "  <td>Min. group size:</td>    <td>900</td>     <td>Log-Likelihood:</td>       <td>-26210.1172</td>    \n",
       "</tr>\n",
       "<tr>\n",
       "  <td>Max. group size:</td>   <td>5808</td>       <td>Converged:</td>              <td>Yes</td>        \n",
       "</tr>\n",
       "<tr>\n",
       "  <td>Mean group size:</td>  <td>2485.7</td>           <td></td>                    <td></td>          \n",
       "</tr>\n",
       "</table>\n",
       "<table class=\"simpletable\">\n",
       "<tr>\n",
       "       <td></td>        <th>Coef.</th> <th>Std.Err.</th>    <th>z</th>   <th>P>|z|</th> <th>[0.025</th> <th>0.975]</th>\n",
       "</tr>\n",
       "<tr>\n",
       "  <th>Intercept</th>   <td>-2.448</td>   <td>0.583</td>  <td>-4.197</td> <td>0.000</td> <td>-3.592</td> <td>-1.305</td>\n",
       "</tr>\n",
       "<tr>\n",
       "  <th>input_noise</th>  <td>0.039</td>   <td>0.016</td>   <td>2.420</td> <td>0.016</td>  <td>0.007</td>  <td>0.071</td>\n",
       "</tr>\n",
       "<tr>\n",
       "  <th>Group Var</th>    <td>2.039</td>   <td>0.839</td>     <td></td>      <td></td>       <td></td>       <td></td>   \n",
       "</tr>\n",
       "</table><br/>\n"
      ],
      "text/latex": [
       "\\begin{table}\n",
       "\\caption{Mixed Linear Model Regression Results}\n",
       "\\label{}\n",
       "\\begin{center}\n",
       "\\begin{tabular}{llll}\n",
       "\\hline\n",
       "Model:            & MixedLM & Dependent Variable: & fixation\\_duration\\_t  \\\\\n",
       "No. Observations: & 14914   & Method:             & ML                     \\\\\n",
       "No. Groups:       & 6       & Scale:              & 1.9619                 \\\\\n",
       "Min. group size:  & 900     & Log-Likelihood:     & -26210.1172            \\\\\n",
       "Max. group size:  & 5808    & Converged:          & Yes                    \\\\\n",
       "Mean group size:  & 2485.7  &                     &                        \\\\\n",
       "\\hline\n",
       "\\end{tabular}\n",
       "\\end{center}\n",
       "\n",
       "\\begin{center}\n",
       "\\begin{tabular}{lrrrrrr}\n",
       "\\hline\n",
       "             &  Coef. & Std.Err. &      z & P$> |$z$|$ & [0.025 & 0.975]  \\\\\n",
       "\\hline\n",
       "Intercept    & -2.448 &    0.583 & -4.197 &       0.000 & -3.592 & -1.305  \\\\\n",
       "input\\_noise &  0.039 &    0.016 &  2.420 &       0.016 &  0.007 &  0.071  \\\\\n",
       "Group Var    &  2.039 &    0.839 &        &             &        &         \\\\\n",
       "\\hline\n",
       "\\end{tabular}\n",
       "\\end{center}\n",
       "\\end{table}\n",
       "\\bigskip\n"
      ],
      "text/plain": [
       "<class 'statsmodels.iolib.summary2.Summary'>\n",
       "\"\"\"\n",
       "              Mixed Linear Model Regression Results\n",
       "=================================================================\n",
       "Model:            MixedLM Dependent Variable: fixation_duration_t\n",
       "No. Observations: 14914   Method:             ML                 \n",
       "No. Groups:       6       Scale:              1.9619             \n",
       "Min. group size:  900     Log-Likelihood:     -26210.1172        \n",
       "Max. group size:  5808    Converged:          Yes                \n",
       "Mean group size:  2485.7                                         \n",
       "-------------------------------------------------------------------\n",
       "               Coef.    Std.Err.     z      P>|z|   [0.025   0.975]\n",
       "-------------------------------------------------------------------\n",
       "Intercept      -2.448      0.583   -4.197   0.000   -3.592   -1.305\n",
       "input_noise     0.039      0.016    2.420   0.016    0.007    0.071\n",
       "Group Var       2.039      0.839                                   \n",
       "=================================================================\n",
       "\n",
       "\"\"\""
      ]
     },
     "execution_count": 160,
     "metadata": {},
     "output_type": "execute_result"
    }
   ],
   "source": [
    "model = smf.mixedlm(\n",
    "    \"fixation_duration_t ~ input_noise\",\n",
    "    data=type_1,\n",
    "    groups=type_1[\"ID\"]\n",
    ")\n",
    "model_fit = model.fit(reml=False)\n",
    "\n",
    "model_fit.summary()"
   ]
  },
  {
   "cell_type": "markdown",
   "id": "d1e3163e",
   "metadata": {},
   "source": [
    "### Distance to closest obstacle"
   ]
  },
  {
   "cell_type": "code",
   "execution_count": 161,
   "id": "30fb4671",
   "metadata": {},
   "outputs": [
    {
     "data": {
      "text/plain": [
       "0.15992578857775053"
      ]
     },
     "execution_count": 161,
     "metadata": {},
     "output_type": "execute_result"
    }
   ],
   "source": [
    "_, lmbda = boxcox(type_0.Dist_to_closest_obstacles)\n",
    "lmbda"
   ]
  },
  {
   "cell_type": "code",
   "execution_count": 162,
   "id": "8e000bdd",
   "metadata": {},
   "outputs": [
    {
     "name": "stderr",
     "output_type": "stream",
     "text": [
      "/var/folders/z1/crk0j_p52yq850yynjpq93wm0000gn/T/ipykernel_6863/642020871.py:1: SettingWithCopyWarning: \n",
      "A value is trying to be set on a copy of a slice from a DataFrame.\n",
      "Try using .loc[row_indexer,col_indexer] = value instead\n",
      "\n",
      "See the caveats in the documentation: https://pandas.pydata.org/pandas-docs/stable/user_guide/indexing.html#returning-a-view-versus-a-copy\n",
      "  type_0['Dist_to_closest_obstacles_t'] = np.log(type_0.Dist_to_closest_obstacles)\n"
     ]
    }
   ],
   "source": [
    "type_0['Dist_to_closest_obstacles_t'] = np.log(type_0.Dist_to_closest_obstacles)"
   ]
  },
  {
   "cell_type": "code",
   "execution_count": 163,
   "id": "1b1e0476",
   "metadata": {},
   "outputs": [
    {
     "name": "stderr",
     "output_type": "stream",
     "text": [
      "/Users/heinrich/anaconda3/envs/datascience/lib/python3.9/site-packages/statsmodels/regression/mixed_linear_model.py:2238: ConvergenceWarning: The MLE may be on the boundary of the parameter space.\n",
      "  warnings.warn(msg, ConvergenceWarning)\n"
     ]
    },
    {
     "data": {
      "text/html": [
       "<table class=\"simpletable\">\n",
       "<tr>\n",
       "       <td>Model:</td>       <td>MixedLM</td> <td>Dependent Variable:</td> <td>Dist_to_closest_obstacles_t</td>\n",
       "</tr>\n",
       "<tr>\n",
       "  <td>No. Observations:</td>  <td>12499</td>        <td>Method:</td>                   <td>ML</td>             \n",
       "</tr>\n",
       "<tr>\n",
       "     <td>No. Groups:</td>       <td>6</td>          <td>Scale:</td>                  <td>0.3127</td>           \n",
       "</tr>\n",
       "<tr>\n",
       "  <td>Min. group size:</td>    <td>196</td>     <td>Log-Likelihood:</td>           <td>-10481.2819</td>        \n",
       "</tr>\n",
       "<tr>\n",
       "  <td>Max. group size:</td>   <td>4600</td>       <td>Converged:</td>                  <td>Yes</td>            \n",
       "</tr>\n",
       "<tr>\n",
       "  <td>Mean group size:</td>  <td>2083.2</td>           <td></td>                        <td></td>              \n",
       "</tr>\n",
       "</table>\n",
       "<table class=\"simpletable\">\n",
       "<tr>\n",
       "       <td></td>        <th>Coef.</th> <th>Std.Err.</th>    <th>z</th>   <th>P>|z|</th> <th>[0.025</th> <th>0.975]</th>\n",
       "</tr>\n",
       "<tr>\n",
       "  <th>Intercept</th>    <td>1.034</td>   <td>0.042</td>  <td>24.626</td> <td>0.000</td>  <td>0.952</td>  <td>1.117</td>\n",
       "</tr>\n",
       "<tr>\n",
       "  <th>input_noise</th> <td>-0.002</td>   <td>0.007</td>  <td>-0.296</td> <td>0.767</td> <td>-0.016</td>  <td>0.012</td>\n",
       "</tr>\n",
       "<tr>\n",
       "  <th>Group Var</th>    <td>0.010</td>   <td>0.011</td>     <td></td>      <td></td>       <td></td>       <td></td>   \n",
       "</tr>\n",
       "</table><br/>\n"
      ],
      "text/latex": [
       "\\begin{table}\n",
       "\\caption{Mixed Linear Model Regression Results}\n",
       "\\label{}\n",
       "\\begin{center}\n",
       "\\begin{tabular}{llll}\n",
       "\\hline\n",
       "Model:            & MixedLM & Dependent Variable: & Dist\\_to\\_closest\\_obstacles\\_t  \\\\\n",
       "No. Observations: & 12499   & Method:             & ML                               \\\\\n",
       "No. Groups:       & 6       & Scale:              & 0.3127                           \\\\\n",
       "Min. group size:  & 196     & Log-Likelihood:     & -10481.2819                      \\\\\n",
       "Max. group size:  & 4600    & Converged:          & Yes                              \\\\\n",
       "Mean group size:  & 2083.2  &                     &                                  \\\\\n",
       "\\hline\n",
       "\\end{tabular}\n",
       "\\end{center}\n",
       "\n",
       "\\begin{center}\n",
       "\\begin{tabular}{lrrrrrr}\n",
       "\\hline\n",
       "             &  Coef. & Std.Err. &      z & P$> |$z$|$ & [0.025 & 0.975]  \\\\\n",
       "\\hline\n",
       "Intercept    &  1.034 &    0.042 & 24.626 &       0.000 &  0.952 &  1.117  \\\\\n",
       "input\\_noise & -0.002 &    0.007 & -0.296 &       0.767 & -0.016 &  0.012  \\\\\n",
       "Group Var    &  0.010 &    0.011 &        &             &        &         \\\\\n",
       "\\hline\n",
       "\\end{tabular}\n",
       "\\end{center}\n",
       "\\end{table}\n",
       "\\bigskip\n"
      ],
      "text/plain": [
       "<class 'statsmodels.iolib.summary2.Summary'>\n",
       "\"\"\"\n",
       "                  Mixed Linear Model Regression Results\n",
       "=========================================================================\n",
       "Model:            MixedLM Dependent Variable: Dist_to_closest_obstacles_t\n",
       "No. Observations: 12499   Method:             ML                         \n",
       "No. Groups:       6       Scale:              0.3127                     \n",
       "Min. group size:  196     Log-Likelihood:     -10481.2819                \n",
       "Max. group size:  4600    Converged:          Yes                        \n",
       "Mean group size:  2083.2                                                 \n",
       "----------------------------------------------------------------------------\n",
       "                   Coef.     Std.Err.      z       P>|z|    [0.025    0.975]\n",
       "----------------------------------------------------------------------------\n",
       "Intercept           1.034       0.042    24.626    0.000     0.952     1.117\n",
       "input_noise        -0.002       0.007    -0.296    0.767    -0.016     0.012\n",
       "Group Var           0.010       0.011                                       \n",
       "=========================================================================\n",
       "\n",
       "\"\"\""
      ]
     },
     "execution_count": 163,
     "metadata": {},
     "output_type": "execute_result"
    }
   ],
   "source": [
    "model = smf.mixedlm(\n",
    "    \"Dist_to_closest_obstacles_t ~ input_noise\",\n",
    "    data=type_0,\n",
    "    groups=type_0[\"ID\"]\n",
    ")\n",
    "model_fit = model.fit(reml=False)\n",
    "\n",
    "model_fit.summary()"
   ]
  },
  {
   "cell_type": "code",
   "execution_count": 164,
   "id": "230f1e7f",
   "metadata": {},
   "outputs": [
    {
     "data": {
      "text/plain": [
       "0.24648378437853496"
      ]
     },
     "execution_count": 164,
     "metadata": {},
     "output_type": "execute_result"
    }
   ],
   "source": [
    "_, lmbda = boxcox(type_1.Dist_to_closest_obstacles)\n",
    "lmbda"
   ]
  },
  {
   "cell_type": "code",
   "execution_count": 165,
   "id": "3b331465",
   "metadata": {},
   "outputs": [
    {
     "name": "stderr",
     "output_type": "stream",
     "text": [
      "/var/folders/z1/crk0j_p52yq850yynjpq93wm0000gn/T/ipykernel_6863/2089663632.py:1: SettingWithCopyWarning: \n",
      "A value is trying to be set on a copy of a slice from a DataFrame.\n",
      "Try using .loc[row_indexer,col_indexer] = value instead\n",
      "\n",
      "See the caveats in the documentation: https://pandas.pydata.org/pandas-docs/stable/user_guide/indexing.html#returning-a-view-versus-a-copy\n",
      "  type_1['Dist_to_closest_obstacles_t'] = np.log(type_1.Dist_to_closest_obstacles)\n"
     ]
    }
   ],
   "source": [
    "type_1['Dist_to_closest_obstacles_t'] = np.log(type_1.Dist_to_closest_obstacles)"
   ]
  },
  {
   "cell_type": "code",
   "execution_count": 166,
   "id": "26627208",
   "metadata": {},
   "outputs": [
    {
     "name": "stderr",
     "output_type": "stream",
     "text": [
      "/Users/heinrich/anaconda3/envs/datascience/lib/python3.9/site-packages/statsmodels/regression/mixed_linear_model.py:2238: ConvergenceWarning: The MLE may be on the boundary of the parameter space.\n",
      "  warnings.warn(msg, ConvergenceWarning)\n"
     ]
    },
    {
     "data": {
      "text/html": [
       "<table class=\"simpletable\">\n",
       "<tr>\n",
       "       <td>Model:</td>       <td>MixedLM</td> <td>Dependent Variable:</td> <td>Dist_to_closest_obstacles_t</td>\n",
       "</tr>\n",
       "<tr>\n",
       "  <td>No. Observations:</td>  <td>14914</td>        <td>Method:</td>                   <td>ML</td>             \n",
       "</tr>\n",
       "<tr>\n",
       "     <td>No. Groups:</td>       <td>6</td>          <td>Scale:</td>                  <td>0.2058</td>           \n",
       "</tr>\n",
       "<tr>\n",
       "  <td>Min. group size:</td>    <td>900</td>     <td>Log-Likelihood:</td>           <td>-9386.2860</td>         \n",
       "</tr>\n",
       "<tr>\n",
       "  <td>Max. group size:</td>   <td>5808</td>       <td>Converged:</td>                  <td>Yes</td>            \n",
       "</tr>\n",
       "<tr>\n",
       "  <td>Mean group size:</td>  <td>2485.7</td>           <td></td>                        <td></td>              \n",
       "</tr>\n",
       "</table>\n",
       "<table class=\"simpletable\">\n",
       "<tr>\n",
       "       <td></td>       <th>Coef.</th> <th>Std.Err.</th>    <th>z</th>   <th>P>|z|</th> <th>[0.025</th> <th>0.975]</th>\n",
       "</tr>\n",
       "<tr>\n",
       "  <th>Intercept</th>   <td>1.323</td>   <td>0.028</td>  <td>46.427</td> <td>0.000</td>  <td>1.267</td>  <td>1.378</td>\n",
       "</tr>\n",
       "<tr>\n",
       "  <th>input_noise</th> <td>0.035</td>   <td>0.005</td>   <td>6.612</td> <td>0.000</td>  <td>0.024</td>  <td>0.045</td>\n",
       "</tr>\n",
       "<tr>\n",
       "  <th>Group Var</th>   <td>0.005</td>   <td>0.006</td>     <td></td>      <td></td>       <td></td>       <td></td>   \n",
       "</tr>\n",
       "</table><br/>\n"
      ],
      "text/latex": [
       "\\begin{table}\n",
       "\\caption{Mixed Linear Model Regression Results}\n",
       "\\label{}\n",
       "\\begin{center}\n",
       "\\begin{tabular}{llll}\n",
       "\\hline\n",
       "Model:            & MixedLM & Dependent Variable: & Dist\\_to\\_closest\\_obstacles\\_t  \\\\\n",
       "No. Observations: & 14914   & Method:             & ML                               \\\\\n",
       "No. Groups:       & 6       & Scale:              & 0.2058                           \\\\\n",
       "Min. group size:  & 900     & Log-Likelihood:     & -9386.2860                       \\\\\n",
       "Max. group size:  & 5808    & Converged:          & Yes                              \\\\\n",
       "Mean group size:  & 2485.7  &                     &                                  \\\\\n",
       "\\hline\n",
       "\\end{tabular}\n",
       "\\end{center}\n",
       "\n",
       "\\begin{center}\n",
       "\\begin{tabular}{lrrrrrr}\n",
       "\\hline\n",
       "             & Coef. & Std.Err. &      z & P$> |$z$|$ & [0.025 & 0.975]  \\\\\n",
       "\\hline\n",
       "Intercept    & 1.323 &    0.028 & 46.427 &       0.000 &  1.267 &  1.378  \\\\\n",
       "input\\_noise & 0.035 &    0.005 &  6.612 &       0.000 &  0.024 &  0.045  \\\\\n",
       "Group Var    & 0.005 &    0.006 &        &             &        &         \\\\\n",
       "\\hline\n",
       "\\end{tabular}\n",
       "\\end{center}\n",
       "\\end{table}\n",
       "\\bigskip\n"
      ],
      "text/plain": [
       "<class 'statsmodels.iolib.summary2.Summary'>\n",
       "\"\"\"\n",
       "                  Mixed Linear Model Regression Results\n",
       "=========================================================================\n",
       "Model:            MixedLM Dependent Variable: Dist_to_closest_obstacles_t\n",
       "No. Observations: 14914   Method:             ML                         \n",
       "No. Groups:       6       Scale:              0.2058                     \n",
       "Min. group size:  900     Log-Likelihood:     -9386.2860                 \n",
       "Max. group size:  5808    Converged:          Yes                        \n",
       "Mean group size:  2485.7                                                 \n",
       "-----------------------------------------------------------------------------\n",
       "                Coef.     Std.Err.       z        P>|z|     [0.025     0.975]\n",
       "-----------------------------------------------------------------------------\n",
       "Intercept       1.323        0.028     46.427     0.000      1.267      1.378\n",
       "input_noise     0.035        0.005      6.612     0.000      0.024      0.045\n",
       "Group Var       0.005        0.006                                           \n",
       "=========================================================================\n",
       "\n",
       "\"\"\""
      ]
     },
     "execution_count": 166,
     "metadata": {},
     "output_type": "execute_result"
    }
   ],
   "source": [
    "model = smf.mixedlm(\n",
    "    \"Dist_to_closest_obstacles_t ~ input_noise\",\n",
    "    data=type_1,\n",
    "    groups=type_1[\"ID\"]\n",
    ")\n",
    "model_fit = model.fit(reml=False)\n",
    "\n",
    "model_fit.summary()"
   ]
  },
  {
   "cell_type": "code",
   "execution_count": null,
   "id": "0a20be43",
   "metadata": {},
   "outputs": [],
   "source": []
  }
 ],
 "metadata": {
  "kernelspec": {
   "display_name": "datascience",
   "language": "python",
   "name": "datascience"
  },
  "language_info": {
   "codemirror_mode": {
    "name": "ipython",
    "version": 3
   },
   "file_extension": ".py",
   "mimetype": "text/x-python",
   "name": "python",
   "nbconvert_exporter": "python",
   "pygments_lexer": "ipython3",
   "version": "3.9.18"
  }
 },
 "nbformat": 4,
 "nbformat_minor": 5
}
